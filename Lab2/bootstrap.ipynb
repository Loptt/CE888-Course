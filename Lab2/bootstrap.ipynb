{
  "nbformat": 4,
  "nbformat_minor": 0,
  "metadata": {
    "accelerator": "TPU",
    "colab": {
      "name": "bootstrap.ipynb",
      "provenance": [],
      "include_colab_link": true
    },
    "kernelspec": {
      "display_name": "Python 3",
      "language": "python",
      "name": "python3"
    },
    "language_info": {
      "codemirror_mode": {
        "name": "ipython",
        "version": 3
      },
      "file_extension": ".py",
      "mimetype": "text/x-python",
      "name": "python",
      "nbconvert_exporter": "python",
      "pygments_lexer": "ipython3",
      "version": "3.7.6"
    },
    "pycharm": {
      "stem_cell": {
        "cell_type": "raw",
        "metadata": {
          "collapsed": false
        },
        "source": []
      }
    }
  },
  "cells": [
    {
      "cell_type": "markdown",
      "metadata": {
        "id": "view-in-github",
        "colab_type": "text"
      },
      "source": [
        "<a href=\"https://colab.research.google.com/github/Loptt/CE888-Course/blob/main/Lab2/bootstrap.ipynb\" target=\"_parent\"><img src=\"https://colab.research.google.com/assets/colab-badge.svg\" alt=\"Open In Colab\"/></a>"
      ]
    },
    {
      "cell_type": "markdown",
      "metadata": {
        "id": "nCi_99yMYIb1"
      },
      "source": [
        "In this notebook you'll create your own bootstrap function following the bootstrap algorithm (check the lecture notes!)"
      ]
    },
    {
      "cell_type": "code",
      "metadata": {
        "id": "LY5zujI2YC37"
      },
      "source": [
        "import matplotlib\n",
        "import pandas as pd\n",
        "import seaborn as sns\n",
        "import numpy as np\n",
        "\n"
      ],
      "execution_count": null,
      "outputs": []
    },
    {
      "cell_type": "code",
      "metadata": {
        "id": "Eqkwj4SMY38t"
      },
      "source": [
        "# Load the data\n",
        "df = pd.read_csv('https://raw.githubusercontent.com/albanda/CE888/master/lab2%20-%20bootstrap/customers.csv')\n",
        "data = df.values.T[1]"
      ],
      "execution_count": 65,
      "outputs": []
    },
    {
      "cell_type": "code",
      "metadata": {
        "id": "Gxvc_bScYC4H"
      },
      "source": [
        "# Checking the notes from the lecture, create here your own bootstrap function:\n",
        "# 1. Sample from the input array x to create an array of samples of shape (n_bootstraps, sample_size)\n",
        "# Hint: Check the function random.choice() on Numpy\n",
        "# 2. Calculate and save the mean of the array (this is \"data_mean\" that is returned by the function)\n",
        "# 3. Calculate the mean from each bootstrap (i.e., row) and store it.\n",
        "# (This should be an array of n_bootstraps values)\n",
        "# 4. Calculate the lower and upper bounds for a 95% CI (hint: check the percentile function on Numpy)\n",
        "# 5. Return data_mean, and the lower and upper bounds of your interval\n",
        "def bootstrap_mean(x, sample_size, n_bootstraps):\n",
        "  bootstrap_means = []\n",
        "  for i in range(n_bootstraps):\n",
        "    bootstrap_means.append(sum([np.random.choice(x) for _ in range(sample_size)]) / sample_size)\n",
        "\n",
        "  bootstrap_means.sort()\n",
        "\n",
        "  data_mean = sum(bootstrap_means) / len(bootstrap_means)\n",
        "\n",
        "  bootstrap_means = [x for x in bootstrap_means if x > np.percentile(bootstrap_means, 2.5)]\n",
        "  bootstrap_means = [x for x in bootstrap_means if x < np.percentile(bootstrap_means, 97.5)]\n",
        "\n",
        "  lower = bootstrap_means[0]\n",
        "  upper = bootstrap_means[-1]\n",
        "  \n",
        "  return data_mean, lower, upper"
      ],
      "execution_count": null,
      "outputs": []
    },
    {
      "cell_type": "code",
      "metadata": {
        "colab": {
          "base_uri": "https://localhost:8080/",
          "height": 454
        },
        "id": "AN7sEOcMYC4P",
        "outputId": "38baeeb1-d516-4fc8-dcea-fbded86a2f1a"
      },
      "source": [
        "# Call your bootstrap function and plot the results\n",
        "\n",
        "boots = []\n",
        "for i in range(100, 8000, 1000):\n",
        "    boot = bootstrap_mean(data, data.shape[0], i)\n",
        "    boots.append([i, boot[0], \"mean\"])\n",
        "    boots.append([i, boot[1], \"lower\"])\n",
        "    boots.append([i, boot[2], \"upper\"])\n",
        "\n",
        "df_boot = pd.DataFrame(boots, columns=['Bootstrap Iterations', 'Mean', \"Value\"])\n",
        "sns_plot = sns.lmplot(df_boot.columns[0], df_boot.columns[1], data=df_boot, fit_reg=False, hue=\"Value\")\n",
        "\n",
        "sns_plot.axes[0, 0].set_ylim(0,)\n",
        "sns_plot.axes[0, 0].set_xlim(0, 100000)\n"
      ],
      "execution_count": null,
      "outputs": [
        {
          "output_type": "stream",
          "text": [
            "/usr/local/lib/python3.6/dist-packages/seaborn/_decorators.py:43: FutureWarning: Pass the following variables as keyword args: x, y. From version 0.12, the only valid positional argument will be `data`, and passing other arguments without an explicit keyword will result in an error or misinterpretation.\n",
            "  FutureWarning\n"
          ],
          "name": "stderr"
        },
        {
          "output_type": "execute_result",
          "data": {
            "text/plain": [
              "(0.0, 100000.0)"
            ]
          },
          "metadata": {
            "tags": []
          },
          "execution_count": 5
        },
        {
          "output_type": "display_data",
          "data": {
            "image/png": "[encoded data removed]",
            "text/plain": [
              "<Figure size 425.125x360 with 1 Axes>"
            ]
          },
          "metadata": {
            "tags": []
          }
        }
      ]
    },
    {
      "cell_type": "markdown",
      "metadata": {
        "id": "MjtP4e2_YC4V"
      },
      "source": [
        "\n",
        "Now, modify the bootstrap function you created above so that you can pass your desired confidence interval as a parameter.\n",
        "\n"
      ]
    },
    {
      "cell_type": "code",
      "metadata": {
        "id": "3K9j0FuGYhHs",
        "colab": {
          "base_uri": "https://localhost:8080/"
        },
        "outputId": "520aec45-aba8-46e6-e516-168a84d4c1c1"
      },
      "source": [
        "def bootstrap_mean_ci(sample, sample_size, n_bootstraps, ci):\n",
        "  bootstrap_means = []\n",
        "  for i in range(n_bootstraps):\n",
        "    bootstrap_means.append(sum([np.random.choice(sample) for _ in range(sample_size)]) / sample_size)\n",
        "\n",
        "  bootstrap_means.sort()\n",
        "\n",
        "  data_mean = sum(bootstrap_means) / len(bootstrap_means)\n",
        "\n",
        "  bootstrap_means = [x for x in bootstrap_means if x > np.percentile(bootstrap_means, (100 - ci) / 2)]\n",
        "  bootstrap_means = [x for x in bootstrap_means if x < np.percentile(bootstrap_means, ((100 - ci) / 2) + ci)]\n",
        "\n",
        "  lower = bootstrap_means[0]\n",
        "  upper = bootstrap_means[-1]\n",
        "\n",
        "  return data_mean, lower, upper\n",
        "\n",
        "bootstrap_mean_ci(data, data.shape[0], 10000 , 80)"
      ],
      "execution_count": 66,
      "outputs": [
        {
          "output_type": "execute_result",
          "data": {
            "text/plain": [
              "(9.214871428571374, 7.357142857142857, 11.214285714285714)"
            ]
          },
          "metadata": {
            "tags": []
          },
          "execution_count": 66
        }
      ]
    },
    {
      "cell_type": "code",
      "metadata": {
        "colab": {
          "base_uri": "https://localhost:8080/",
          "height": 454
        },
        "id": "uDnjq08GYl-C",
        "outputId": "7eea5f00-b3ea-4713-bfca-3151a802a997"
      },
      "source": [
        "boots = []\n",
        "for i in range(100, 8000, 1000):\n",
        "    boot = bootstrap_mean_ci(data, data.shape[0], i, 80)\n",
        "    boots.append([i, boot[0], \"mean\"])\n",
        "    boots.append([i, boot[1], \"lower\"])\n",
        "    boots.append([i, boot[2], \"upper\"])\n",
        "\n",
        "df_boot = pd.DataFrame(boots, columns=['Boostrap Iterations', 'Mean', \"Value\"])\n",
        "sns_plot = sns.lmplot(df_boot.columns[0], df_boot.columns[1], data=df_boot, fit_reg=False, hue=\"Value\")\n",
        "\n",
        "sns_plot.axes[0, 0].set_ylim(0,)\n",
        "sns_plot.axes[0, 0].set_xlim(0, 100000)\n",
        "\n",
        "#sns_plot.savefig(\"bootstrap_confidence_80.pdf\", bbox_inches='tight')\n"
      ],
      "execution_count": null,
      "outputs": [
        {
          "output_type": "stream",
          "text": [
            "/usr/local/lib/python3.6/dist-packages/seaborn/_decorators.py:43: FutureWarning: Pass the following variables as keyword args: x, y. From version 0.12, the only valid positional argument will be `data`, and passing other arguments without an explicit keyword will result in an error or misinterpretation.\n",
            "  FutureWarning\n"
          ],
          "name": "stderr"
        },
        {
          "output_type": "execute_result",
          "data": {
            "text/plain": [
              "(0.0, 100000.0)"
            ]
          },
          "metadata": {
            "tags": []
          },
          "execution_count": 7
        },
        {
          "output_type": "display_data",
          "data": {
            "image/png": "[encoded data removed]",
            "text/plain": [
              "<Figure size 425.125x360 with 1 Axes>"
            ]
          },
          "metadata": {
            "tags": []
          }
        }
      ]
    },
    {
      "cell_type": "markdown",
      "metadata": {
        "id": "qjNgXW6wdd7r"
      },
      "source": [
        "# Vehicles dataset\n",
        "\n",
        "Now let's work on a different dataset, which is stored in the vehicles.csv file.\n"
      ]
    },
    {
      "cell_type": "code",
      "metadata": {
        "id": "avWv4ipFdpka"
      },
      "source": [
        "# Load and visualise the vehicles dataset\n",
        "# To load the dataset: https://neptune.ai/blog/google-colab-dealing-with-files (check section \"Load individual files directly from GitHub\")\n",
        "\n",
        "df = pd.read_csv('https://raw.githubusercontent.com/albanda/CE888/master/lab2%20-%20bootstrap/vehicles.csv')\n",
        "\n",
        "# Note that the current and new fleets are in different columns and have different lengths, so bear this in mind when you're plotting.\n",
        "# You can create separate scatterplots for the two fleets, as you would with the histograms, \n",
        "# or plot them both in one plot (but not one against the other).\n",
        "\n",
        "current_fleet = np.array([x for x in df.iloc[:,0].to_numpy() if not np.isnan(x)])\n",
        "new_fleet = np.array([x for x in df.iloc[:,1].to_numpy() if not np.isnan(x)])\n",
        "\n",
        "# Note: you can add more cells as needed to organise your code and your plots"
      ],
      "execution_count": null,
      "outputs": []
    },
    {
      "cell_type": "code",
      "metadata": {
        "colab": {
          "base_uri": "https://localhost:8080/",
          "height": 266
        },
        "id": "RqnSGcHy2h6w",
        "outputId": "5ccf9bf1-1f38-46b4-cb49-bd1f1d24bc89"
      },
      "source": [
        "import matplotlib.pyplot as plt\r\n",
        "\r\n",
        "fig, ax = plt.subplots(1,2)\r\n",
        "sns.boxplot(data=current_fleet, ax=ax[0])\r\n",
        "sns.boxplot(data=new_fleet, ax=ax[1])\r\n",
        "fig.show()"
      ],
      "execution_count": null,
      "outputs": [
        {
          "output_type": "display_data",
          "data": {
            "image/png": "[encoded data removed]",
            "text/plain": [
              "<Figure size 432x288 with 2 Axes>"
            ]
          },
          "metadata": {
            "tags": []
          }
        }
      ]
    },
    {
      "cell_type": "markdown",
      "metadata": {
        "id": "B5d0tXDpIEj8"
      },
      "source": [
        "## Compare the two fleets\r\n",
        "\r\n",
        "The business analysts come up a comparison algorithm that requires the upper and lower bounds for the mean in order to say which fleet is better.\r\n",
        "1. Calculate the mean of both samples.\r\n",
        "2. Using the bootstrap function that you created:\r\n",
        "    - Construct the 95% CI of the mean of the current fleet.\r\n",
        "    - Construct the 95% CI of the mean of the new fleet.\r\n",
        "    - Are they comparable? (i.e., is one better than the other?) -- you can do this with a permutation test (check the lecture notes!)"
      ]
    },
    {
      "cell_type": "code",
      "metadata": {
        "colab": {
          "base_uri": "https://localhost:8080/",
          "height": 454
        },
        "id": "po4mp6zRHC0m",
        "outputId": "1bd9c0c6-95ca-46c3-b109-b2ce6e8cbdd9"
      },
      "source": [
        "boots = []\n",
        "max_b = 4000\n",
        "for i in range(100, max_b, 100):\n",
        "    boot = bootstrap_mean_ci(current_fleet, data.shape[0], i, 95)\n",
        "    boots.append([i, boot[0], \"mean\"])\n",
        "    boots.append([i, boot[1], \"lower\"])\n",
        "    boots.append([i, boot[2], \"upper\"])\n",
        "\n",
        "df_boot = pd.DataFrame(boots, columns=['Boostrap Iterations', 'Mean', \"Value\"])\n",
        "sns_plot = sns.lmplot(df_boot.columns[0], df_boot.columns[1], data=df_boot, fit_reg=False, hue=\"Value\")\n",
        "\n",
        "sns_plot.axes[0, 0].set_ylim(0,)\n",
        "sns_plot.axes[0, 0].set_xlim(0, max_b)"
      ],
      "execution_count": 20,
      "outputs": [
        {
          "output_type": "stream",
          "text": [
            "/usr/local/lib/python3.6/dist-packages/seaborn/_decorators.py:43: FutureWarning: Pass the following variables as keyword args: x, y. From version 0.12, the only valid positional argument will be `data`, and passing other arguments without an explicit keyword will result in an error or misinterpretation.\n",
            "  FutureWarning\n"
          ],
          "name": "stderr"
        },
        {
          "output_type": "execute_result",
          "data": {
            "text/plain": [
              "(0.0, 4000.0)"
            ]
          },
          "metadata": {
            "tags": []
          },
          "execution_count": 20
        },
        {
          "output_type": "display_data",
          "data": {
            "image/png": "[encoded data removed]",
            "text/plain": [
              "<Figure size 425.125x360 with 1 Axes>"
            ]
          },
          "metadata": {
            "tags": [],
            "needs_background": "light"
          }
        }
      ]
    },
    {
      "cell_type": "code",
      "metadata": {
        "colab": {
          "base_uri": "https://localhost:8080/",
          "height": 454
        },
        "id": "sSYFFepq7KGq",
        "outputId": "0f76a0a1-9bfa-43d2-9e6c-8c898a86f74c"
      },
      "source": [
        "boots = []\r\n",
        "max_b = 4000\r\n",
        "for i in range(100, max_b, 100):\r\n",
        "    boot = bootstrap_mean_ci(new_fleet, data.shape[0], i, 95)\r\n",
        "    boots.append([i, boot[0], \"mean\"])\r\n",
        "    boots.append([i, boot[1], \"lower\"])\r\n",
        "    boots.append([i, boot[2], \"upper\"])\r\n",
        "\r\n",
        "df_boot = pd.DataFrame(boots, columns=['Boostrap Iterations', 'Mean', \"Value\"])\r\n",
        "sns_plot = sns.lmplot(df_boot.columns[0], df_boot.columns[1], data=df_boot, fit_reg=False, hue=\"Value\")\r\n",
        "\r\n",
        "sns_plot.axes[0, 0].set_ylim(0,)\r\n",
        "sns_plot.axes[0, 0].set_xlim(0, max_b)"
      ],
      "execution_count": 17,
      "outputs": [
        {
          "output_type": "stream",
          "text": [
            "/usr/local/lib/python3.6/dist-packages/seaborn/_decorators.py:43: FutureWarning: Pass the following variables as keyword args: x, y. From version 0.12, the only valid positional argument will be `data`, and passing other arguments without an explicit keyword will result in an error or misinterpretation.\n",
            "  FutureWarning\n"
          ],
          "name": "stderr"
        },
        {
          "output_type": "execute_result",
          "data": {
            "text/plain": [
              "(0.0, 4000.0)"
            ]
          },
          "metadata": {
            "tags": []
          },
          "execution_count": 17
        },
        {
          "output_type": "display_data",
          "data": {
            "image/png": "[encoded data removed]",
            "text/plain": [
              "<Figure size 425.125x360 with 1 Axes>"
            ]
          },
          "metadata": {
            "tags": [],
            "needs_background": "light"
          }
        }
      ]
    },
    {
      "cell_type": "markdown",
      "metadata": {
        "id": "OaLA47d7AFQ7"
      },
      "source": [
        "In the two graphs above we can clearly see that the new fleet has a higher mean and upper and lower bounds for 95% confidence intervals."
      ]
    },
    {
      "cell_type": "code",
      "metadata": {
        "id": "MkxvDZG4HC0n"
      },
      "source": [
        "# Create your own function for a permutation test here (you will need it for the lab quiz!):\n",
        "def permut_test(sample1, sample2, n_permutations):\n",
        "    \"\"\"\n",
        "    sample1: 1D array\n",
        "    sample2: 1D array (note that the size of the two arrays can be different)\n",
        "    n_permutations: number of permutations to calculate the p-value\n",
        "    \"\"\"\n",
        "    len1, len2 = len(sample1), len(sample2)\n",
        "    m_obs = np.mean(sample2) - np.mean(sample1)\n",
        "\n",
        "    perms = []\n",
        "\n",
        "    for i in range(n_permutations):\n",
        "      concat = np.concatenate((sample1, sample2))\n",
        "      perm = np.random.permutation(concat)\n",
        "\n",
        "      pold = perm[:len1]\n",
        "      pnew = perm[len1:]\n",
        "\n",
        "      m_perm = np.mean(pnew) - np.mean(pold)\n",
        "      perms.append(m_perm > m_obs)\n",
        "    \n",
        "    pvalue = perms.count(True) / n_permutations\n",
        "\n",
        "    return pvalue"
      ],
      "execution_count": 53,
      "outputs": []
    },
    {
      "cell_type": "markdown",
      "metadata": {
        "id": "8zO3jGBcITpv"
      },
      "source": [
        "Calculate different levels of permutations."
      ]
    },
    {
      "cell_type": "code",
      "metadata": {
        "colab": {
          "base_uri": "https://localhost:8080/",
          "height": 265
        },
        "id": "NKWLs0u3AUjb",
        "outputId": "a3b7c5ed-eba5-45fe-b501-3a75a3aad7c8"
      },
      "source": [
        "import matplotlib.pyplot as plt\r\n",
        "\r\n",
        "perms = []\r\n",
        "idcs = []\r\n",
        "max_b = 4000\r\n",
        "for i in range(100, max_b, 100):\r\n",
        "    p = permut_test(current_fleet, new_fleet, i)\r\n",
        "    perms.append(p)\r\n",
        "    idcs.append(i)\r\n",
        "    \r\n",
        "plt.scatter(x=idcs, y=perms)\r\n",
        "plt.show()"
      ],
      "execution_count": 54,
      "outputs": [
        {
          "output_type": "display_data",
          "data": {
            "image/png": "[encoded data removed]",
            "text/plain": [
              "<Figure size 432x288 with 1 Axes>"
            ]
          },
          "metadata": {
            "tags": [],
            "needs_background": "light"
          }
        }
      ]
    },
    {
      "cell_type": "markdown",
      "metadata": {
        "id": "Uu28MXb6HLQj"
      },
      "source": [
        "### Bootstrap function that also receives any summary statistic function as parameter"
      ]
    },
    {
      "cell_type": "code",
      "metadata": {
        "colab": {
          "base_uri": "https://localhost:8080/"
        },
        "id": "tTNT1i3RFwy7",
        "outputId": "dda84703-105f-4f96-ea69-fed9fc1bd2fb"
      },
      "source": [
        "def bootstrap_flex_ci(sample, sample_size, n_bootstraps, ci, func):\r\n",
        "  bootstraps = []\r\n",
        "  for i in range(n_bootstraps):\r\n",
        "    sampled = [np.random.choice(sample) for _ in range(sample_size)]\r\n",
        "    bootstraps.append(func(sampled))\r\n",
        "\r\n",
        "  bootstraps.sort()\r\n",
        "\r\n",
        "  data_mean = np.mean(bootstraps)\r\n",
        "\r\n",
        "  bootstraps = [x for x in bootstraps if x > np.percentile(bootstraps, (100 - ci) / 2)]\r\n",
        "  bootstraps = [x for x in bootstraps if x < np.percentile(bootstraps, ((100 - ci) / 2) + ci)]\r\n",
        "\r\n",
        "  lower = bootstraps[0]\r\n",
        "  upper = bootstraps[-1]\r\n",
        "\r\n",
        "  return data_mean, lower, upper\r\n",
        "\r\n",
        "bootstrap_mean_ci(data, data.shape[0], 10000 , 85)"
      ],
      "execution_count": 61,
      "outputs": [
        {
          "output_type": "execute_result",
          "data": {
            "text/plain": [
              "(20.14021004016069, 19.566265060240966, 20.751004016064257)"
            ]
          },
          "metadata": {
            "tags": []
          },
          "execution_count": 61
        }
      ]
    },
    {
      "cell_type": "code",
      "metadata": {
        "colab": {
          "base_uri": "https://localhost:8080/"
        },
        "id": "uHqCGeV3FEsT",
        "outputId": "4f050b32-ac33-4359-902d-69e66925092f"
      },
      "source": [
        "data = new_fleet\r\n",
        "bootstrap_flex_ci(data, data.shape[0], 10000 , 95, np.std)"
      ],
      "execution_count": 67,
      "outputs": [
        {
          "output_type": "execute_result",
          "data": {
            "text/plain": [
              "(6.009333474961202, 5.137618999667011, 6.914822721770521)"
            ]
          },
          "metadata": {
            "tags": []
          },
          "execution_count": 67
        }
      ]
    },
    {
      "cell_type": "markdown",
      "metadata": {
        "id": "ErfcjwGxIwsj"
      },
      "source": [
        "## Voting Data"
      ]
    },
    {
      "cell_type": "code",
      "metadata": {
        "colab": {
          "base_uri": "https://localhost:8080/"
        },
        "id": "5sEDdvK6Izme",
        "outputId": "d1d6155f-dc34-466c-e2b5-7570fc1f0c98"
      },
      "source": [
        "# The variables below represent the percentages of democratic votes in Pennsylvania and Ohio (one value for each state).\r\n",
        "dem_share_PA = [60.08, 40.64, 36.07, 41.21, 31.04, 43.78, 44.08, 46.85, 44.71, 46.15, 63.10, 52.20, 43.18, 40.24, 39.92, 47.87, 37.77, 40.11, 49.85, 48.61, 38.62, 54.25, 34.84, 47.75, 43.82, 55.97, 58.23, 42.97, 42.38, 36.11, 37.53, 42.65, 50.96, 47.43, 56.24, 45.60, 46.39, 35.22, 48.56, 32.97, 57.88, 36.05, 37.72, 50.36, 32.12, 41.55, 54.66, 57.81, 54.58, 32.88, 54.37, 40.45, 47.61, 60.49, 43.11, 27.32, 44.03, 33.56, 37.26, 54.64, 43.12, 25.34, 49.79, 83.56, 40.09, 60.81, 49.81]\r\n",
        "dem_share_OH = [56.94, 50.46, 65.99, 45.88, 42.23, 45.26, 57.01, 53.61, 59.10, 61.48, 43.43, 44.69, 54.59, 48.36, 45.89, 48.62, 43.92, 38.23, 28.79, 63.57, 38.07, 40.18, 43.05, 41.56, 42.49, 36.06, 52.76, 46.07, 39.43, 39.26, 47.47, 27.92, 38.01, 45.45, 29.07, 28.94, 51.28, 50.10, 39.84, 36.43, 35.71, 31.47, 47.01, 40.10, 48.76, 31.56, 39.86, 45.31, 35.47, 51.38, 46.33, 48.73, 41.77, 41.32, 48.46, 53.14, 34.01, 54.74, 40.67, 38.96, 46.29, 38.25, 6.80, 31.75, 46.33, 44.90, 33.57, 38.10, 39.67, 40.47, 49.44, 37.62, 36.71, 46.73, 42.20, 53.16, 52.40, 58.36, 68.02, 38.53, 34.58, 69.64, 60.50, 53.53, 36.54, 49.58, 41.97, 38.11]\r\n",
        "\r\n",
        "print(\"Amount in PA: \", len(dem_share_PA))\r\n",
        "print(\"Amount in OH: \", len(dem_share_OH))"
      ],
      "execution_count": 70,
      "outputs": [
        {
          "output_type": "stream",
          "text": [
            "Amount in PA:  67\n",
            "Amount in OH:  88\n"
          ],
          "name": "stdout"
        }
      ]
    },
    {
      "cell_type": "code",
      "metadata": {
        "colab": {
          "base_uri": "https://localhost:8080/"
        },
        "id": "OX6OvHBwJX9R",
        "outputId": "a1076170-2d1e-4f48-e0ad-179e51f8ed3c"
      },
      "source": [
        "print(\"Mean 95% confidence interval for PA: \", bootstrap_flex_ci(dem_share_PA, len(dem_share_PA), 20000, 95, np.mean))\r\n",
        "print(\"Mean 95% confidence interval for OH: \", bootstrap_flex_ci(dem_share_OH, len(dem_share_OH), 20000, 95, np.mean))"
      ],
      "execution_count": 72,
      "outputs": [
        {
          "output_type": "stream",
          "text": [
            "Mean 95% confidence interval for PA:  (45.47269785820895, 43.22880597014925, 47.883731343283586)\n",
            "Mean 95% confidence interval for OH:  (44.3073779715909, 42.26863636363637, 46.384431818181824)\n"
          ],
          "name": "stdout"
        }
      ]
    },
    {
      "cell_type": "code",
      "metadata": {
        "colab": {
          "base_uri": "https://localhost:8080/"
        },
        "id": "so0vsojqKPsT",
        "outputId": "f058e974-1dcf-431d-9e19-3f47aca69d8e"
      },
      "source": [
        "print(\"P-value: \", permut_test(dem_share_OH, dem_share_PA, 10000))"
      ],
      "execution_count": 74,
      "outputs": [
        {
          "output_type": "stream",
          "text": [
            "P-value:  0.2343\n"
          ],
          "name": "stdout"
        }
      ]
    }
  ]
}