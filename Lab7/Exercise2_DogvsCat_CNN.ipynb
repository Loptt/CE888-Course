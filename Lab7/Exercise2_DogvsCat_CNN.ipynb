{
  "nbformat": 4,
  "nbformat_minor": 0,
  "metadata": {
    "colab": {
      "name": "Exercise2_DogvsCat_CNN.ipynb",
      "provenance": [],
      "include_colab_link": true
    },
    "kernelspec": {
      "name": "python3",
      "display_name": "Python 3"
    },
    "accelerator": "GPU"
  },
  "cells": [
    {
      "cell_type": "markdown",
      "metadata": {
        "id": "view-in-github",
        "colab_type": "text"
      },
      "source": [
        "<a href=\"https://colab.research.google.com/github/Loptt/CE888-Course/blob/main/Lab7/Exercise2_DogvsCat_CNN.ipynb\" target=\"_parent\"><img src=\"https://colab.research.google.com/assets/colab-badge.svg\" alt=\"Open In Colab\"/></a>"
      ]
    },
    {
      "cell_type": "markdown",
      "metadata": {
        "id": "qTh9DiKVslsJ"
      },
      "source": [
        "## Dogs vs. Cats \n",
        "\n",
        "In this competition, you'll write an algorithm to classify whether images contain either a dog or a cat.  This is easy for humans, dogs, and cats. Your computer will find it a bit more difficult.\n",
        "\n",
        "![alt text](https://miro.medium.com/max/3000/1*bhFifratH9DjKqMBTeQG5A.gif)\n",
        "\n",
        "Ref: https://medium.com/@thegrigorian/rolling-in-the-deep-cnn-c8d3f7108c8c"
      ]
    },
    {
      "cell_type": "markdown",
      "metadata": {
        "id": "RSBI-_mSSY1g"
      },
      "source": [
        "Get your API Key from Kaggle using following steps:\n",
        "1. Login to [Kaggle](https://www.kaggle.com/) or Register if you don't have account\n",
        "2. Open Dataset (https://www.kaggle.com/c/dogs-vs-cats/rules) and accept terms and condition. \n",
        "3. On the top right corner click on your Icon and go to accounts and press a button \"Create New API Token\". It will download a JSON file containing your username and key. \n",
        "4. Now, paste both below. \n"
      ]
    },
    {
      "cell_type": "code",
      "metadata": {
        "id": "YmXSOc0tZIGA",
        "colab": {
          "base_uri": "https://localhost:8080/"
        },
        "outputId": "5a8222c7-8767-4c5f-9205-421937821725"
      },
      "source": [
        "import os\n",
        "os.environ['KAGGLE_USERNAME'] = \"carlosestrada\" # username from the json file\n",
        "os.environ['KAGGLE_KEY'] = \"43bf3de34943119a654840d2cb42ce7e\" # key from the json file\n",
        "!kaggle competitions download -c dogs-vs-cats # api copied from kaggle (https://www.kaggle.com/c/dogs-vs-cats/data)"
      ],
      "execution_count": null,
      "outputs": [
        {
          "output_type": "stream",
          "text": [
            "Warning: Looks like you're using an outdated API Version, please consider updating (server 1.5.10 / client 1.5.4)\n",
            "Downloading test1.zip to /content\n",
            " 99% 268M/271M [00:02<00:00, 156MB/s]\n",
            "100% 271M/271M [00:02<00:00, 130MB/s]\n",
            "Downloading sampleSubmission.csv to /content\n",
            "  0% 0.00/86.8k [00:00<?, ?B/s]\n",
            "100% 86.8k/86.8k [00:00<00:00, 90.1MB/s]\n",
            "Downloading train.zip to /content\n",
            " 96% 521M/543M [00:03<00:00, 180MB/s]\n",
            "100% 543M/543M [00:03<00:00, 144MB/s]\n"
          ],
          "name": "stdout"
        }
      ]
    },
    {
      "cell_type": "code",
      "metadata": {
        "id": "PiwIL8d1n7eS",
        "colab": {
          "base_uri": "https://localhost:8080/"
        },
        "outputId": "87a09ce4-b9f5-412d-b8d3-c26cd8e3e3bc"
      },
      "source": [
        "# Unzip training data\n",
        "from zipfile import ZipFile\n",
        "file_name = \"/content/train.zip\"\n",
        "with ZipFile(file_name, 'r') as zip:\n",
        "  zip.extractall()\n",
        "  print('done')"
      ],
      "execution_count": null,
      "outputs": [
        {
          "output_type": "stream",
          "text": [
            "done\n"
          ],
          "name": "stdout"
        }
      ]
    },
    {
      "cell_type": "code",
      "metadata": {
        "id": "sa2Bj5i7pPKV",
        "colab": {
          "base_uri": "https://localhost:8080/"
        },
        "outputId": "8192b710-71e6-4d9f-a564-c3fa1a5cbc68"
      },
      "source": [
        "# Get all the paths\n",
        "data_dir_list = os.listdir('/content/train')\n",
        "#print(data_dir_list)\n",
        "path, dirs, files = next(os.walk(\"/content/train\"))\n",
        "file_count = len(files)\n",
        "print(file_count)"
      ],
      "execution_count": null,
      "outputs": [
        {
          "output_type": "stream",
          "text": [
            "25000\n"
          ],
          "name": "stdout"
        }
      ]
    },
    {
      "cell_type": "code",
      "metadata": {
        "id": "0ERlHkfHqpK8"
      },
      "source": [
        "# Make new base directory\n",
        "original_dataset_dir = '/content/train'\n",
        "base_dir = '/content/cats_and_dogs_small'\n",
        "os.mkdir(base_dir)"
      ],
      "execution_count": null,
      "outputs": []
    },
    {
      "cell_type": "code",
      "metadata": {
        "id": "AANB1UJ6rQhM"
      },
      "source": [
        "train_dir = os.path.join(base_dir, 'train')\n",
        "os.mkdir(train_dir)\n",
        "\n",
        "validation_dir = os.path.join(base_dir, 'validation')\n",
        "os.mkdir(validation_dir)\n",
        "\n",
        "test_dir = os.path.join(base_dir, 'test')\n",
        "os.mkdir(test_dir)\n",
        "\n",
        "train_cats_dir = os.path.join(train_dir, 'cats')\n",
        "os.mkdir(train_cats_dir)\n",
        "\n",
        "train_dogs_dir = os.path.join(train_dir, 'dogs')\n",
        "os.mkdir(train_dogs_dir)\n",
        "\n",
        "validation_cats_dir = os.path.join(validation_dir, 'cats')\n",
        "os.mkdir(validation_cats_dir)\n",
        "\n",
        "validation_dogs_dir = os.path.join(validation_dir, 'dogs')\n",
        "os.mkdir(validation_dogs_dir)\n",
        "\n",
        "test_cats_dir = os.path.join(test_dir, 'cats')\n",
        "os.mkdir(test_cats_dir)\n",
        "\n",
        "test_dogs_dir = os.path.join(test_dir, 'dogs')\n",
        "os.mkdir(test_dogs_dir)"
      ],
      "execution_count": null,
      "outputs": []
    },
    {
      "cell_type": "code",
      "metadata": {
        "id": "ULRgL9s9rV8T"
      },
      "source": [
        "import shutil\n",
        "fnames = ['cat.{}.jpg'.format(i) for i in range(1000)]\n",
        "for fname in fnames:\n",
        "    src = os.path.join(original_dataset_dir, fname)\n",
        "    dst = os.path.join(train_cats_dir, fname)\n",
        "    #print(src,dst)\n",
        "    shutil.copyfile(src, dst)\n",
        "    \n",
        "fnames = ['cat.{}.jpg'.format(i) for i in range(1000, 1500)]\n",
        "for fname in fnames:\n",
        "    src = os.path.join(original_dataset_dir, fname)\n",
        "    dst = os.path.join(validation_cats_dir, fname)\n",
        "    shutil.copyfile(src, dst)\n",
        "\n",
        "fnames = ['cat.{}.jpg'.format(i) for i in range(1500, 2000)]\n",
        "for fname in fnames:\n",
        "    src = os.path.join(original_dataset_dir, fname)\n",
        "    dst = os.path.join(test_cats_dir, fname)\n",
        "    shutil.copyfile(src, dst)\n",
        "    \n",
        "fnames = ['dog.{}.jpg'.format(i) for i in range(1000)]\n",
        "for fname in fnames:\n",
        "    src = os.path.join(original_dataset_dir, fname)\n",
        "    dst = os.path.join(train_dogs_dir, fname)\n",
        "    shutil.copyfile(src, dst)\n",
        "\n",
        "fnames = ['dog.{}.jpg'.format(i) for i in range(1000, 1500)]\n",
        "for fname in fnames:\n",
        "    src = os.path.join(original_dataset_dir, fname)\n",
        "    dst = os.path.join(validation_dogs_dir, fname)\n",
        "    shutil.copyfile(src, dst)\n",
        "\n",
        "fnames = ['dog.{}.jpg'.format(i) for i in range(1500, 2000)]\n",
        "for fname in fnames:\n",
        "    src = os.path.join(original_dataset_dir, fname)\n",
        "    dst = os.path.join(test_dogs_dir, fname)\n",
        "    shutil.copyfile(src, dst)"
      ],
      "execution_count": null,
      "outputs": []
    },
    {
      "cell_type": "code",
      "metadata": {
        "id": "ul3XAbIyr7vC",
        "colab": {
          "base_uri": "https://localhost:8080/"
        },
        "outputId": "1b837798-b099-42cd-8aac-57a4fa082d54"
      },
      "source": [
        "print('total training cat images:', len(os.listdir(train_cats_dir)))\n",
        "print('total training dog images:', len(os.listdir(train_dogs_dir)))\n",
        "print('total validation cat images:', len(os.listdir(validation_cats_dir)))\n",
        "\n",
        "print('total validation dog images:', len(os.listdir(validation_dogs_dir)))\n",
        "print('total test cat images:', len(os.listdir(test_cats_dir)))\n",
        "print('total test dog images:', len(os.listdir(test_dogs_dir)))"
      ],
      "execution_count": null,
      "outputs": [
        {
          "output_type": "stream",
          "text": [
            "total training cat images: 1000\n",
            "total training dog images: 1000\n",
            "total validation cat images: 500\n",
            "total validation dog images: 500\n",
            "total test cat images: 500\n",
            "total test dog images: 500\n"
          ],
          "name": "stdout"
        }
      ]
    },
    {
      "cell_type": "code",
      "metadata": {
        "id": "o9yTA21_r-ma",
        "colab": {
          "base_uri": "https://localhost:8080/"
        },
        "outputId": "ab271fe1-8b22-47fb-da49-6e16f8c93bbf"
      },
      "source": [
        "from keras import layers\n",
        "from keras import models\n",
        "\n",
        "model = models.Sequential()\n",
        "model.add(layers.Conv2D(32, (3, 3), activation='relu', input_shape=(150, 150, 3)))\n",
        "model.add(layers.MaxPooling2D((2, 2)))\n",
        "model.add(layers.Conv2D(64, (3, 3), activation='relu'))\n",
        "model.add(layers.MaxPooling2D((2, 2)))\n",
        "model.add(layers.Conv2D(128, (3, 3), activation='relu'))\n",
        "model.add(layers.MaxPooling2D((2, 2)))\n",
        "model.add(layers.Conv2D(128, (3, 3), activation='relu'))\n",
        "model.add(layers.MaxPooling2D((2, 2)))\n",
        "model.add(layers.Flatten())\n",
        "model.add(layers.Dense(512, activation='relu'))\n",
        "model.add(layers.Dense(1, activation='sigmoid'))\n",
        "model.summary()"
      ],
      "execution_count": null,
      "outputs": [
        {
          "output_type": "stream",
          "text": [
            "Model: \"sequential\"\n",
            "_________________________________________________________________\n",
            "Layer (type)                 Output Shape              Param #   \n",
            "=================================================================\n",
            "conv2d (Conv2D)              (None, 148, 148, 32)      896       \n",
            "_________________________________________________________________\n",
            "max_pooling2d (MaxPooling2D) (None, 74, 74, 32)        0         \n",
            "_________________________________________________________________\n",
            "conv2d_1 (Conv2D)            (None, 72, 72, 64)        18496     \n",
            "_________________________________________________________________\n",
            "max_pooling2d_1 (MaxPooling2 (None, 36, 36, 64)        0         \n",
            "_________________________________________________________________\n",
            "conv2d_2 (Conv2D)            (None, 34, 34, 128)       73856     \n",
            "_________________________________________________________________\n",
            "max_pooling2d_2 (MaxPooling2 (None, 17, 17, 128)       0         \n",
            "_________________________________________________________________\n",
            "conv2d_3 (Conv2D)            (None, 15, 15, 128)       147584    \n",
            "_________________________________________________________________\n",
            "max_pooling2d_3 (MaxPooling2 (None, 7, 7, 128)         0         \n",
            "_________________________________________________________________\n",
            "flatten (Flatten)            (None, 6272)              0         \n",
            "_________________________________________________________________\n",
            "dense (Dense)                (None, 512)               3211776   \n",
            "_________________________________________________________________\n",
            "dense_1 (Dense)              (None, 1)                 513       \n",
            "=================================================================\n",
            "Total params: 3,453,121\n",
            "Trainable params: 3,453,121\n",
            "Non-trainable params: 0\n",
            "_________________________________________________________________\n"
          ],
          "name": "stdout"
        }
      ]
    },
    {
      "cell_type": "code",
      "metadata": {
        "id": "2mG8wekxsBVS"
      },
      "source": [
        "from keras import optimizers\n",
        "model.compile(loss='binary_crossentropy', \n",
        "              optimizer=optimizers.RMSprop(lr=1e-4),\n",
        "              metrics=['acc'])"
      ],
      "execution_count": null,
      "outputs": []
    },
    {
      "cell_type": "markdown",
      "metadata": {
        "id": "7zS4Klm8qWp6"
      },
      "source": [
        "## Using ImageDataGenerator to read images from directories\n",
        "As you know by now, data should be formatted into appropriately preprocessed floatingpoint tensors before being fed into the network. Currently, the data sits on a drive as JPEG files, so the steps for getting it into the network are roughly as follows:\n",
        "\n",
        "* Read the picture files.\n",
        "* Decode the JPEG content to RGB grids of pixels.\n",
        "* Convert these into floating-point tensors.\n",
        "* Rescale the pixel values (between 0 and 255) to the [0, 1] interval (as you know, neural networks prefer to deal with small input values).\n",
        "\n",
        "It may seem a bit daunting, but fortunately Keras has utilities to take care of these steps automatically. Keras has a module with image-processing helper tools, located at keras.preprocessing.image. In particular, it contains the class ImageDataGenerator,which lets you quickly set up Python generators that can automatically turn image files on disk into batches of preprocessed tensors."
      ]
    },
    {
      "cell_type": "code",
      "metadata": {
        "id": "XJ7XU7t9sEh6",
        "colab": {
          "base_uri": "https://localhost:8080/"
        },
        "outputId": "7292db12-0540-4b7e-e2ad-2f8bbc170360"
      },
      "source": [
        "from keras.preprocessing.image import ImageDataGenerator\n",
        "\n",
        "train_datagen = ImageDataGenerator(rescale=1./255)\n",
        "test_datagen = ImageDataGenerator(rescale=1./255)\n",
        "\n",
        "train_generator = train_datagen.flow_from_directory(train_dir,\n",
        "                                                    target_size=(150, 150), \n",
        "                                                    batch_size=20,\n",
        "                                                    class_mode='binary')\n",
        "\n",
        "validation_generator = test_datagen.flow_from_directory(validation_dir,\n",
        "                                                        target_size=(150, 150),\n",
        "                                                        batch_size=20,\n",
        "                                                        class_mode='binary')"
      ],
      "execution_count": null,
      "outputs": [
        {
          "output_type": "stream",
          "text": [
            "Found 2000 images belonging to 2 classes.\n",
            "Found 1000 images belonging to 2 classes.\n"
          ],
          "name": "stdout"
        }
      ]
    },
    {
      "cell_type": "markdown",
      "metadata": {
        "id": "SEgLywySqm4u"
      },
      "source": [
        "Let’s fit the model to the data using the generator. You do so using the fit_generator method, the equivalent of fit for data generators like this one. It expects as its first argument a Python generator that will yield batches of inputs and targets indefinitely,like this one does. Because the data is being generated endlessly, the Keras model needs to know how many samples to draw from the generator before declaring anepoch over. This is the role of the `steps_per_epoch` argument: after having drawn `steps_per_epoch` batches from the generator—that is, after having run for `steps_per_epoch` gradient descent steps—the fitting process will go to the next epoch. In this case, batches are 20 samples, so it will take 100 batches until you see your target of 2,000 samples.\n",
        "\n",
        "When using fit_generator, you can pass a validation_data argument, much as with the fit method. It’s important to note that this argument is allowed to be a data generator, but it could also be a tuple of Numpy arrays. If you pass a generator as validation_data, then this generator is expected to yield batches of validation data endlessly; thus you should also specify the validation_steps argument, which tells the process how many batches to draw from the validation generator for evaluation."
      ]
    },
    {
      "cell_type": "code",
      "metadata": {
        "id": "yMyfPphJsJG6",
        "colab": {
          "base_uri": "https://localhost:8080/"
        },
        "outputId": "42d44be8-ef76-4365-a8fe-e30231b1824a"
      },
      "source": [
        "history = model.fit_generator(train_generator,\n",
        "                              steps_per_epoch=100,\n",
        "                              epochs=30,\n",
        "                              validation_data=validation_generator,\n",
        "                              validation_steps=10)"
      ],
      "execution_count": null,
      "outputs": [
        {
          "output_type": "stream",
          "text": [
            "/usr/local/lib/python3.7/dist-packages/tensorflow/python/keras/engine/training.py:1844: UserWarning: `Model.fit_generator` is deprecated and will be removed in a future version. Please use `Model.fit`, which supports generators.\n",
            "  warnings.warn('`Model.fit_generator` is deprecated and '\n"
          ],
          "name": "stderr"
        },
        {
          "output_type": "stream",
          "text": [
            "Epoch 1/30\n",
            "100/100 [==============================] - 40s 70ms/step - loss: 0.6951 - acc: 0.5240 - val_loss: 0.6655 - val_acc: 0.6050\n",
            "Epoch 2/30\n",
            "100/100 [==============================] - 7s 67ms/step - loss: 0.6584 - acc: 0.6072 - val_loss: 0.6666 - val_acc: 0.6100\n",
            "Epoch 3/30\n",
            "100/100 [==============================] - 7s 67ms/step - loss: 0.6188 - acc: 0.6662 - val_loss: 0.6018 - val_acc: 0.6850\n",
            "Epoch 4/30\n",
            "100/100 [==============================] - 7s 67ms/step - loss: 0.5639 - acc: 0.7081 - val_loss: 0.6234 - val_acc: 0.6700\n",
            "Epoch 5/30\n",
            "100/100 [==============================] - 7s 69ms/step - loss: 0.5426 - acc: 0.7382 - val_loss: 0.6311 - val_acc: 0.6150\n",
            "Epoch 6/30\n",
            "100/100 [==============================] - 7s 68ms/step - loss: 0.5135 - acc: 0.7492 - val_loss: 0.6122 - val_acc: 0.6750\n",
            "Epoch 7/30\n",
            "100/100 [==============================] - 7s 68ms/step - loss: 0.4753 - acc: 0.7760 - val_loss: 0.5975 - val_acc: 0.7050\n",
            "Epoch 8/30\n",
            "100/100 [==============================] - 7s 67ms/step - loss: 0.4617 - acc: 0.7785 - val_loss: 0.6190 - val_acc: 0.6800\n",
            "Epoch 9/30\n",
            "100/100 [==============================] - 7s 68ms/step - loss: 0.4384 - acc: 0.8103 - val_loss: 0.5977 - val_acc: 0.6900\n",
            "Epoch 10/30\n",
            "100/100 [==============================] - 7s 68ms/step - loss: 0.4200 - acc: 0.7986 - val_loss: 0.6429 - val_acc: 0.6550\n",
            "Epoch 11/30\n",
            "100/100 [==============================] - 7s 68ms/step - loss: 0.3661 - acc: 0.8298 - val_loss: 0.5218 - val_acc: 0.7700\n",
            "Epoch 12/30\n",
            "100/100 [==============================] - 7s 67ms/step - loss: 0.3250 - acc: 0.8598 - val_loss: 0.4792 - val_acc: 0.7600\n",
            "Epoch 13/30\n",
            "100/100 [==============================] - 7s 68ms/step - loss: 0.3064 - acc: 0.8774 - val_loss: 0.6520 - val_acc: 0.6650\n",
            "Epoch 14/30\n",
            "100/100 [==============================] - 7s 68ms/step - loss: 0.2859 - acc: 0.8860 - val_loss: 0.5860 - val_acc: 0.7250\n",
            "Epoch 15/30\n",
            "100/100 [==============================] - 7s 69ms/step - loss: 0.2627 - acc: 0.8950 - val_loss: 0.5668 - val_acc: 0.7550\n",
            "Epoch 16/30\n",
            "100/100 [==============================] - 7s 67ms/step - loss: 0.2371 - acc: 0.9110 - val_loss: 0.6960 - val_acc: 0.7450\n",
            "Epoch 17/30\n",
            "100/100 [==============================] - 7s 69ms/step - loss: 0.2230 - acc: 0.9164 - val_loss: 0.7308 - val_acc: 0.7000\n",
            "Epoch 18/30\n",
            "100/100 [==============================] - 7s 67ms/step - loss: 0.2062 - acc: 0.9230 - val_loss: 0.5910 - val_acc: 0.7350\n",
            "Epoch 19/30\n",
            "100/100 [==============================] - 7s 67ms/step - loss: 0.1749 - acc: 0.9374 - val_loss: 0.5988 - val_acc: 0.7400\n",
            "Epoch 20/30\n",
            "100/100 [==============================] - 7s 68ms/step - loss: 0.1591 - acc: 0.9421 - val_loss: 0.6590 - val_acc: 0.7650\n",
            "Epoch 21/30\n",
            "100/100 [==============================] - 7s 67ms/step - loss: 0.1279 - acc: 0.9588 - val_loss: 0.6998 - val_acc: 0.7200\n",
            "Epoch 22/30\n",
            "100/100 [==============================] - 7s 67ms/step - loss: 0.1225 - acc: 0.9587 - val_loss: 0.6298 - val_acc: 0.7850\n",
            "Epoch 23/30\n",
            "100/100 [==============================] - 7s 67ms/step - loss: 0.0979 - acc: 0.9736 - val_loss: 0.8576 - val_acc: 0.7150\n",
            "Epoch 24/30\n",
            "100/100 [==============================] - 7s 68ms/step - loss: 0.0886 - acc: 0.9720 - val_loss: 0.8691 - val_acc: 0.7350\n",
            "Epoch 25/30\n",
            "100/100 [==============================] - 7s 67ms/step - loss: 0.0850 - acc: 0.9745 - val_loss: 0.8105 - val_acc: 0.7200\n",
            "Epoch 26/30\n",
            "100/100 [==============================] - 7s 67ms/step - loss: 0.0661 - acc: 0.9880 - val_loss: 0.8825 - val_acc: 0.7700\n",
            "Epoch 27/30\n",
            "100/100 [==============================] - 7s 68ms/step - loss: 0.0608 - acc: 0.9799 - val_loss: 0.8050 - val_acc: 0.7550\n",
            "Epoch 28/30\n",
            "100/100 [==============================] - 7s 68ms/step - loss: 0.0411 - acc: 0.9907 - val_loss: 1.1039 - val_acc: 0.7350\n",
            "Epoch 29/30\n",
            "100/100 [==============================] - 7s 68ms/step - loss: 0.0464 - acc: 0.9898 - val_loss: 1.1726 - val_acc: 0.7000\n",
            "Epoch 30/30\n",
            "100/100 [==============================] - 7s 67ms/step - loss: 0.0323 - acc: 0.9919 - val_loss: 0.8984 - val_acc: 0.7850\n"
          ],
          "name": "stdout"
        }
      ]
    },
    {
      "cell_type": "code",
      "metadata": {
        "id": "MZaZ2HWZsNUi",
        "colab": {
          "base_uri": "https://localhost:8080/",
          "height": 545
        },
        "outputId": "fc880a87-9dfb-4961-c272-714094f0144f"
      },
      "source": [
        "model.save('cats_and_dogs_small_1.h5')\n",
        "\n",
        "import matplotlib.pyplot as plt\n",
        "\n",
        "acc = history.history['acc']\n",
        "val_acc = history.history['val_acc']\n",
        "loss = history.history['loss']\n",
        "val_loss = history.history['val_loss']\n",
        "\n",
        "epochs = range(1, len(acc) + 1)\n",
        "\n",
        "plt.plot(epochs, acc, 'bo', label='Training acc')\n",
        "plt.plot(epochs, val_acc, 'b', label='Validation acc')\n",
        "plt.title('Training and validation accuracy')\n",
        "plt.legend()\n",
        "\n",
        "plt.figure()\n",
        "\n",
        "plt.plot(epochs, loss, 'bo', label='Training loss')\n",
        "plt.plot(epochs, val_loss, 'b', label='Validation loss')\n",
        "plt.title('Training and validation loss')\n",
        "plt.legend()\n",
        "\n",
        "plt.show()"
      ],
      "execution_count": null,
      "outputs": [
        {
          "output_type": "display_data",
          "data": {
            "image/png": "[encoded data removed]",
            "text/plain": [
              "<Figure size 432x288 with 1 Axes>"
            ]
          },
          "metadata": {
            "tags": [],
            "needs_background": "light"
          }
        },
        {
          "output_type": "display_data",
          "data": {
            "image/png": "[encoded data removed]",
            "text/plain": [
              "<Figure size 432x288 with 1 Axes>"
            ]
          },
          "metadata": {
            "tags": [],
            "needs_background": "light"
          }
        }
      ]
    },
    {
      "cell_type": "markdown",
      "metadata": {
        "id": "XKZmXmBcq_8-"
      },
      "source": [
        "## Convolutional Networks with Dropout\n",
        "\n",
        "![alt text](https://camo.githubusercontent.com/ee6fa1073247cd2c3d241300caf110d7a7541bc5/68747470733a2f2f63646e2d696d616765732d312e6d656469756d2e636f6d2f6d61782f3830302f312a4972644a355067684439596f4f7956415137334d4a772e676966)\n",
        "\n",
        "Ref: https://github.com/mneha4/Training-Neural-Nets---Guidelines"
      ]
    },
    {
      "cell_type": "code",
      "metadata": {
        "id": "wu3cqeYQrDeN"
      },
      "source": [
        "model = models.Sequential()\n",
        "model.add(layers.Conv2D(32, (3, 3), activation='relu',\n",
        "input_shape=(150, 150, 3)))\n",
        "model.add(layers.MaxPooling2D((2, 2)))\n",
        "model.add(layers.Conv2D(64, (3, 3), activation='relu'))\n",
        "model.add(layers.MaxPooling2D((2, 2)))\n",
        "model.add(layers.Conv2D(128, (3, 3), activation='relu'))\n",
        "model.add(layers.MaxPooling2D((2, 2)))\n",
        "model.add(layers.Conv2D(128, (3, 3), activation='relu'))\n",
        "model.add(layers.MaxPooling2D((2, 2)))\n",
        "model.add(layers.Flatten())\n",
        "model.add(layers.Dropout(0.5))\n",
        "model.add(layers.Dense(512, activation='relu'))\n",
        "model.add(layers.Dense(1, activation='sigmoid'))\n",
        "\n",
        "model.compile(loss='binary_crossentropy',\n",
        "              optimizer=optimizers.RMSprop(lr=1e-4),\n",
        "              metrics=['acc'])"
      ],
      "execution_count": null,
      "outputs": []
    },
    {
      "cell_type": "code",
      "metadata": {
        "id": "QSeLpvY0rH7F",
        "colab": {
          "base_uri": "https://localhost:8080/"
        },
        "outputId": "e8696181-8ca1-4aa1-a1ed-90b3a93c73d0"
      },
      "source": [
        "\n",
        "train_datagen = ImageDataGenerator(rescale=1./255,\n",
        "                                   rotation_range=40,\n",
        "                                   width_shift_range=0.2,\n",
        "                                   height_shift_range=0.2,\n",
        "                                   shear_range=0.2,\n",
        "                                   zoom_range=0.2,\n",
        "                                   horizontal_flip=True,)\n",
        "\n",
        "test_datagen = ImageDataGenerator(rescale=1./255)\n",
        "\n",
        "train_generator = train_datagen.flow_from_directory(train_dir,\n",
        "                                                    target_size=(150, 150),\n",
        "                                                    batch_size=20,\n",
        "                                                    class_mode='binary')\n",
        "\n",
        "validation_generator = test_datagen.flow_from_directory(validation_dir,\n",
        "                                                        target_size=(150, 150),\n",
        "                                                        batch_size=20,\n",
        "                                                        class_mode='binary')\n",
        "\n",
        "history = model.fit_generator(train_generator,\n",
        "                              steps_per_epoch=100,\n",
        "                              epochs=20,\n",
        "                              validation_data=validation_generator,\n",
        "                              validation_steps=50)"
      ],
      "execution_count": null,
      "outputs": [
        {
          "output_type": "stream",
          "text": [
            "Found 2000 images belonging to 2 classes.\n",
            "Found 1000 images belonging to 2 classes.\n"
          ],
          "name": "stdout"
        },
        {
          "output_type": "stream",
          "text": [
            "/usr/local/lib/python3.7/dist-packages/tensorflow/python/keras/engine/training.py:1844: UserWarning: `Model.fit_generator` is deprecated and will be removed in a future version. Please use `Model.fit`, which supports generators.\n",
            "  warnings.warn('`Model.fit_generator` is deprecated and '\n"
          ],
          "name": "stderr"
        },
        {
          "output_type": "stream",
          "text": [
            "Epoch 1/20\n",
            "100/100 [==============================] - 18s 175ms/step - loss: 0.4119 - acc: 0.8090 - val_loss: 0.4056 - val_acc: 0.8290\n",
            "Epoch 2/20\n",
            "100/100 [==============================] - 17s 172ms/step - loss: 0.4017 - acc: 0.8180 - val_loss: 0.5254 - val_acc: 0.7780\n",
            "Epoch 3/20\n",
            "100/100 [==============================] - 17s 172ms/step - loss: 0.3927 - acc: 0.8270 - val_loss: 0.5021 - val_acc: 0.7700\n",
            "Epoch 4/20\n",
            "100/100 [==============================] - 17s 172ms/step - loss: 0.3966 - acc: 0.8230 - val_loss: 0.5141 - val_acc: 0.7680\n",
            "Epoch 5/20\n",
            "100/100 [==============================] - 17s 171ms/step - loss: 0.3872 - acc: 0.8210 - val_loss: 0.4149 - val_acc: 0.8280\n",
            "Epoch 6/20\n",
            "100/100 [==============================] - 17s 173ms/step - loss: 0.3931 - acc: 0.8125 - val_loss: 0.3894 - val_acc: 0.8340\n",
            "Epoch 7/20\n",
            "100/100 [==============================] - 17s 174ms/step - loss: 0.3767 - acc: 0.8310 - val_loss: 0.4260 - val_acc: 0.8170\n",
            "Epoch 8/20\n",
            "100/100 [==============================] - 17s 172ms/step - loss: 0.3829 - acc: 0.8310 - val_loss: 0.4096 - val_acc: 0.8230\n",
            "Epoch 9/20\n",
            "100/100 [==============================] - 17s 173ms/step - loss: 0.3811 - acc: 0.8245 - val_loss: 0.5143 - val_acc: 0.7980\n",
            "Epoch 10/20\n",
            "100/100 [==============================] - 18s 176ms/step - loss: 0.3960 - acc: 0.8135 - val_loss: 0.4033 - val_acc: 0.8280\n",
            "Epoch 11/20\n",
            "100/100 [==============================] - 17s 174ms/step - loss: 0.3810 - acc: 0.8285 - val_loss: 0.4676 - val_acc: 0.7800\n",
            "Epoch 12/20\n",
            "100/100 [==============================] - 17s 173ms/step - loss: 0.3905 - acc: 0.8210 - val_loss: 0.4286 - val_acc: 0.8160\n",
            "Epoch 13/20\n",
            "100/100 [==============================] - 17s 171ms/step - loss: 0.3885 - acc: 0.8210 - val_loss: 0.3929 - val_acc: 0.8170\n",
            "Epoch 14/20\n",
            "100/100 [==============================] - 17s 173ms/step - loss: 0.3786 - acc: 0.8360 - val_loss: 0.4954 - val_acc: 0.7900\n",
            "Epoch 15/20\n",
            "100/100 [==============================] - 17s 172ms/step - loss: 0.3580 - acc: 0.8390 - val_loss: 0.4152 - val_acc: 0.8150\n",
            "Epoch 16/20\n",
            "100/100 [==============================] - 17s 172ms/step - loss: 0.3679 - acc: 0.8355 - val_loss: 0.4261 - val_acc: 0.8230\n",
            "Epoch 17/20\n",
            "100/100 [==============================] - 17s 174ms/step - loss: 0.3805 - acc: 0.8290 - val_loss: 0.4709 - val_acc: 0.8100\n",
            "Epoch 18/20\n",
            "100/100 [==============================] - 17s 174ms/step - loss: 0.3635 - acc: 0.8425 - val_loss: 0.4190 - val_acc: 0.8230\n",
            "Epoch 19/20\n",
            "100/100 [==============================] - 17s 175ms/step - loss: 0.3654 - acc: 0.8370 - val_loss: 0.4234 - val_acc: 0.8180\n",
            "Epoch 20/20\n",
            "100/100 [==============================] - 17s 175ms/step - loss: 0.3703 - acc: 0.8260 - val_loss: 0.4065 - val_acc: 0.8260\n"
          ],
          "name": "stdout"
        }
      ]
    },
    {
      "cell_type": "markdown",
      "metadata": {
        "id": "BRdU5yrkUF_b"
      },
      "source": [
        "# Task 2:\n",
        "\n",
        "We have used Dropout to enhance the performance of the CNN model. Can you please use whatever you like to further enhance the performance from `val_acc: 0.7506`? "
      ]
    },
    {
      "cell_type": "code",
      "metadata": {
        "id": "vvz4m0qDdmbN"
      },
      "source": [
        "model = models.Sequential()\n",
        "model.add(layers.Conv2D(32, (3, 3), activation='relu',\n",
        "input_shape=(150, 150, 3)))\n",
        "model.add(layers.MaxPooling2D((2, 2)))\n",
        "model.add(layers.Conv2D(64, (3, 3), activation='relu'))\n",
        "model.add(layers.MaxPooling2D((2, 2)))\n",
        "model.add(layers.Conv2D(128, (3, 3), activation='relu'))\n",
        "model.add(layers.MaxPooling2D((2, 2)))\n",
        "model.add(layers.Conv2D(128, (3, 3), activation='relu'))\n",
        "model.add(layers.MaxPooling2D((2, 2)))\n",
        "model.add(layers.Flatten())\n",
        "model.add(layers.Dropout(0.5))\n",
        "model.add(layers.Dense(512, activation='relu'))\n",
        "model.add(layers.Dense(1, activation='sigmoid'))\n",
        "\n",
        "model.compile(loss='binary_crossentropy',\n",
        "              optimizer=optimizers.Adam(learning_rate=0.001),\n",
        "              metrics=['acc'])"
      ],
      "execution_count": null,
      "outputs": []
    },
    {
      "cell_type": "code",
      "metadata": {
        "colab": {
          "base_uri": "https://localhost:8080/"
        },
        "id": "LZDQBK4vdyuW",
        "outputId": "6c46278c-2821-4bfc-e1b8-88d692f1543f"
      },
      "source": [
        "history = model.fit_generator(train_generator,\n",
        "                              steps_per_epoch=100,\n",
        "                              epochs=1040,\n",
        "                              validation_data=validation_generator,\n",
        "                              validation_steps=50)"
      ],
      "execution_count": null,
      "outputs": [
        {
          "output_type": "stream",
          "text": [
            "/usr/local/lib/python3.7/dist-packages/tensorflow/python/keras/engine/training.py:1844: UserWarning: `Model.fit_generator` is deprecated and will be removed in a future version. Please use `Model.fit`, which supports generators.\n",
            "  warnings.warn('`Model.fit_generator` is deprecated and '\n"
          ],
          "name": "stderr"
        },
        {
          "output_type": "stream",
          "text": [
            "Epoch 1/100\n",
            "100/100 [==============================] - 17s 172ms/step - loss: 0.5795 - acc: 0.7015 - val_loss: 0.5623 - val_acc: 0.7150\n",
            "Epoch 2/100\n",
            "100/100 [==============================] - 17s 172ms/step - loss: 0.5749 - acc: 0.7050 - val_loss: 0.5789 - val_acc: 0.7040\n",
            "Epoch 3/100\n",
            "100/100 [==============================] - 17s 171ms/step - loss: 0.5794 - acc: 0.6880 - val_loss: 0.5610 - val_acc: 0.7240\n",
            "Epoch 4/100\n",
            "100/100 [==============================] - 17s 172ms/step - loss: 0.5533 - acc: 0.7300 - val_loss: 0.5241 - val_acc: 0.7220\n",
            "Epoch 5/100\n",
            "100/100 [==============================] - 17s 173ms/step - loss: 0.5653 - acc: 0.7125 - val_loss: 0.5365 - val_acc: 0.7250\n",
            "Epoch 6/100\n",
            "100/100 [==============================] - 17s 172ms/step - loss: 0.5604 - acc: 0.7120 - val_loss: 0.5416 - val_acc: 0.7220\n",
            "Epoch 7/100\n",
            "100/100 [==============================] - 17s 172ms/step - loss: 0.5448 - acc: 0.7245 - val_loss: 0.5585 - val_acc: 0.7190\n",
            "Epoch 8/100\n",
            "100/100 [==============================] - 17s 172ms/step - loss: 0.5455 - acc: 0.7230 - val_loss: 0.6169 - val_acc: 0.6850\n",
            "Epoch 9/100\n",
            "100/100 [==============================] - 17s 170ms/step - loss: 0.5433 - acc: 0.7240 - val_loss: 0.5592 - val_acc: 0.7300\n",
            "Epoch 10/100\n",
            "100/100 [==============================] - 17s 172ms/step - loss: 0.5440 - acc: 0.7195 - val_loss: 0.5106 - val_acc: 0.7540\n",
            "Epoch 11/100\n",
            "100/100 [==============================] - 17s 172ms/step - loss: 0.5513 - acc: 0.7230 - val_loss: 0.5312 - val_acc: 0.7480\n",
            "Epoch 12/100\n",
            "100/100 [==============================] - 17s 172ms/step - loss: 0.5399 - acc: 0.7220 - val_loss: 0.4903 - val_acc: 0.7670\n",
            "Epoch 13/100\n",
            "100/100 [==============================] - 17s 175ms/step - loss: 0.5248 - acc: 0.7360 - val_loss: 0.4972 - val_acc: 0.7560\n",
            "Epoch 14/100\n",
            "100/100 [==============================] - 17s 173ms/step - loss: 0.5298 - acc: 0.7300 - val_loss: 0.5039 - val_acc: 0.7680\n",
            "Epoch 15/100\n",
            "100/100 [==============================] - 17s 172ms/step - loss: 0.5258 - acc: 0.7380 - val_loss: 0.4913 - val_acc: 0.7670\n",
            "Epoch 16/100\n",
            "100/100 [==============================] - 17s 173ms/step - loss: 0.5195 - acc: 0.7490 - val_loss: 0.5076 - val_acc: 0.7660\n",
            "Epoch 17/100\n",
            "100/100 [==============================] - 17s 172ms/step - loss: 0.5061 - acc: 0.7455 - val_loss: 0.5104 - val_acc: 0.7510\n",
            "Epoch 18/100\n",
            "100/100 [==============================] - 17s 172ms/step - loss: 0.5179 - acc: 0.7505 - val_loss: 0.5320 - val_acc: 0.7220\n",
            "Epoch 19/100\n",
            "100/100 [==============================] - 17s 173ms/step - loss: 0.4992 - acc: 0.7545 - val_loss: 0.5030 - val_acc: 0.7470\n",
            "Epoch 20/100\n",
            "100/100 [==============================] - 17s 174ms/step - loss: 0.4881 - acc: 0.7690 - val_loss: 0.5043 - val_acc: 0.7850\n",
            "Epoch 21/100\n",
            "100/100 [==============================] - 17s 175ms/step - loss: 0.5069 - acc: 0.7385 - val_loss: 0.5321 - val_acc: 0.7440\n",
            "Epoch 22/100\n",
            "100/100 [==============================] - 18s 176ms/step - loss: 0.5118 - acc: 0.7540 - val_loss: 0.5255 - val_acc: 0.7270\n",
            "Epoch 23/100\n",
            "100/100 [==============================] - 18s 176ms/step - loss: 0.5032 - acc: 0.7450 - val_loss: 0.4795 - val_acc: 0.7650\n",
            "Epoch 24/100\n",
            "100/100 [==============================] - 17s 173ms/step - loss: 0.4786 - acc: 0.7590 - val_loss: 0.4897 - val_acc: 0.7740\n",
            "Epoch 25/100\n",
            "100/100 [==============================] - 17s 173ms/step - loss: 0.4842 - acc: 0.7670 - val_loss: 0.4618 - val_acc: 0.7990\n",
            "Epoch 26/100\n",
            "100/100 [==============================] - 17s 174ms/step - loss: 0.4709 - acc: 0.7735 - val_loss: 0.4600 - val_acc: 0.7740\n",
            "Epoch 27/100\n",
            "100/100 [==============================] - 17s 173ms/step - loss: 0.4788 - acc: 0.7630 - val_loss: 0.4628 - val_acc: 0.7780\n",
            "Epoch 28/100\n",
            "100/100 [==============================] - 17s 173ms/step - loss: 0.4828 - acc: 0.7745 - val_loss: 0.4500 - val_acc: 0.7910\n",
            "Epoch 29/100\n",
            "100/100 [==============================] - 18s 175ms/step - loss: 0.4560 - acc: 0.7895 - val_loss: 0.4529 - val_acc: 0.8080\n",
            "Epoch 30/100\n",
            "100/100 [==============================] - 17s 174ms/step - loss: 0.4587 - acc: 0.7930 - val_loss: 0.5263 - val_acc: 0.7570\n",
            "Epoch 31/100\n",
            "100/100 [==============================] - 18s 178ms/step - loss: 0.4603 - acc: 0.7810 - val_loss: 0.4960 - val_acc: 0.7580\n",
            "Epoch 32/100\n",
            "100/100 [==============================] - 18s 175ms/step - loss: 0.4557 - acc: 0.7870 - val_loss: 0.4545 - val_acc: 0.7840\n",
            "Epoch 33/100\n",
            "100/100 [==============================] - 18s 176ms/step - loss: 0.4605 - acc: 0.7805 - val_loss: 0.4503 - val_acc: 0.7920\n",
            "Epoch 34/100\n",
            "100/100 [==============================] - 18s 176ms/step - loss: 0.4687 - acc: 0.7775 - val_loss: 0.4223 - val_acc: 0.8070\n",
            "Epoch 35/100\n",
            "100/100 [==============================] - 17s 174ms/step - loss: 0.4498 - acc: 0.7845 - val_loss: 0.4542 - val_acc: 0.7900\n",
            "Epoch 36/100\n",
            "100/100 [==============================] - 17s 172ms/step - loss: 0.4525 - acc: 0.7795 - val_loss: 0.4811 - val_acc: 0.7810\n",
            "Epoch 37/100\n",
            "100/100 [==============================] - 17s 172ms/step - loss: 0.4528 - acc: 0.7905 - val_loss: 0.4643 - val_acc: 0.7830\n",
            "Epoch 38/100\n",
            "100/100 [==============================] - 17s 173ms/step - loss: 0.4302 - acc: 0.7970 - val_loss: 0.4205 - val_acc: 0.7990\n",
            "Epoch 39/100\n",
            "100/100 [==============================] - 17s 173ms/step - loss: 0.4605 - acc: 0.7870 - val_loss: 0.4459 - val_acc: 0.7900\n",
            "Epoch 40/100\n",
            "100/100 [==============================] - 17s 174ms/step - loss: 0.4502 - acc: 0.7915 - val_loss: 0.4540 - val_acc: 0.7970\n",
            "Epoch 41/100\n",
            "100/100 [==============================] - 17s 171ms/step - loss: 0.4245 - acc: 0.8025 - val_loss: 0.4262 - val_acc: 0.7920\n",
            "Epoch 42/100\n",
            "100/100 [==============================] - 17s 172ms/step - loss: 0.4451 - acc: 0.7890 - val_loss: 0.5027 - val_acc: 0.7690\n",
            "Epoch 43/100\n",
            "100/100 [==============================] - 17s 172ms/step - loss: 0.4113 - acc: 0.8095 - val_loss: 0.3989 - val_acc: 0.8130\n",
            "Epoch 44/100\n",
            "100/100 [==============================] - 17s 173ms/step - loss: 0.4357 - acc: 0.7990 - val_loss: 0.4223 - val_acc: 0.8060\n",
            "Epoch 45/100\n",
            "100/100 [==============================] - 17s 170ms/step - loss: 0.4267 - acc: 0.8010 - val_loss: 0.4058 - val_acc: 0.8180\n",
            "Epoch 46/100\n",
            "100/100 [==============================] - 17s 172ms/step - loss: 0.4335 - acc: 0.8085 - val_loss: 0.3945 - val_acc: 0.8240\n",
            "Epoch 47/100\n",
            "100/100 [==============================] - 17s 170ms/step - loss: 0.4303 - acc: 0.7990 - val_loss: 0.4152 - val_acc: 0.7930\n",
            "Epoch 48/100\n",
            "100/100 [==============================] - 17s 171ms/step - loss: 0.4145 - acc: 0.8110 - val_loss: 0.4292 - val_acc: 0.7980\n",
            "Epoch 49/100\n",
            "100/100 [==============================] - 17s 173ms/step - loss: 0.3935 - acc: 0.8245 - val_loss: 0.4562 - val_acc: 0.7980\n",
            "Epoch 50/100\n",
            "100/100 [==============================] - 17s 172ms/step - loss: 0.3943 - acc: 0.8215 - val_loss: 0.4011 - val_acc: 0.8280\n",
            "Epoch 51/100\n",
            "100/100 [==============================] - 17s 172ms/step - loss: 0.3990 - acc: 0.8235 - val_loss: 0.4997 - val_acc: 0.7790\n",
            "Epoch 52/100\n",
            "100/100 [==============================] - 17s 173ms/step - loss: 0.4178 - acc: 0.7985 - val_loss: 0.4237 - val_acc: 0.8070\n",
            "Epoch 53/100\n",
            "100/100 [==============================] - 17s 173ms/step - loss: 0.4042 - acc: 0.8135 - val_loss: 0.5051 - val_acc: 0.7690\n",
            "Epoch 54/100\n",
            "100/100 [==============================] - 17s 172ms/step - loss: 0.4026 - acc: 0.8250 - val_loss: 0.3875 - val_acc: 0.8150\n",
            "Epoch 55/100\n",
            "100/100 [==============================] - 17s 171ms/step - loss: 0.3684 - acc: 0.8385 - val_loss: 0.4130 - val_acc: 0.8260\n",
            "Epoch 56/100\n",
            "100/100 [==============================] - 17s 171ms/step - loss: 0.4016 - acc: 0.8145 - val_loss: 0.4189 - val_acc: 0.8060\n",
            "Epoch 57/100\n",
            "100/100 [==============================] - 17s 173ms/step - loss: 0.4127 - acc: 0.8190 - val_loss: 0.4346 - val_acc: 0.8040\n",
            "Epoch 58/100\n",
            "100/100 [==============================] - 17s 171ms/step - loss: 0.3954 - acc: 0.8155 - val_loss: 0.4195 - val_acc: 0.8020\n",
            "Epoch 59/100\n",
            "100/100 [==============================] - 17s 172ms/step - loss: 0.3725 - acc: 0.8330 - val_loss: 0.4299 - val_acc: 0.7980\n",
            "Epoch 60/100\n",
            "100/100 [==============================] - 17s 172ms/step - loss: 0.3795 - acc: 0.8290 - val_loss: 0.4097 - val_acc: 0.8130\n",
            "Epoch 61/100\n",
            "100/100 [==============================] - 17s 172ms/step - loss: 0.3779 - acc: 0.8340 - val_loss: 0.4614 - val_acc: 0.7950\n",
            "Epoch 62/100\n",
            "100/100 [==============================] - 17s 171ms/step - loss: 0.3900 - acc: 0.8240 - val_loss: 0.4578 - val_acc: 0.7950\n",
            "Epoch 63/100\n",
            "100/100 [==============================] - 17s 172ms/step - loss: 0.3678 - acc: 0.8250 - val_loss: 0.4012 - val_acc: 0.8180\n",
            "Epoch 64/100\n",
            "100/100 [==============================] - 17s 171ms/step - loss: 0.3838 - acc: 0.8355 - val_loss: 0.4544 - val_acc: 0.7980\n",
            "Epoch 65/100\n",
            "100/100 [==============================] - 17s 171ms/step - loss: 0.3828 - acc: 0.8240 - val_loss: 0.4005 - val_acc: 0.8150\n",
            "Epoch 66/100\n",
            "100/100 [==============================] - 17s 171ms/step - loss: 0.3958 - acc: 0.8230 - val_loss: 0.3854 - val_acc: 0.8310\n",
            "Epoch 67/100\n",
            "100/100 [==============================] - 17s 175ms/step - loss: 0.3604 - acc: 0.8405 - val_loss: 0.3998 - val_acc: 0.8170\n",
            "Epoch 68/100\n",
            "100/100 [==============================] - 17s 173ms/step - loss: 0.3685 - acc: 0.8330 - val_loss: 0.4068 - val_acc: 0.8060\n",
            "Epoch 69/100\n",
            "100/100 [==============================] - 17s 172ms/step - loss: 0.3411 - acc: 0.8485 - val_loss: 0.3962 - val_acc: 0.8330\n",
            "Epoch 70/100\n",
            "100/100 [==============================] - 17s 172ms/step - loss: 0.3510 - acc: 0.8415 - val_loss: 0.3962 - val_acc: 0.8100\n",
            "Epoch 71/100\n",
            "100/100 [==============================] - 17s 172ms/step - loss: 0.3593 - acc: 0.8380 - val_loss: 0.3851 - val_acc: 0.8230\n",
            "Epoch 72/100\n",
            "100/100 [==============================] - 17s 172ms/step - loss: 0.3589 - acc: 0.8420 - val_loss: 0.4757 - val_acc: 0.7840\n",
            "Epoch 73/100\n",
            "100/100 [==============================] - 17s 172ms/step - loss: 0.3392 - acc: 0.8480 - val_loss: 0.4616 - val_acc: 0.8090\n",
            "Epoch 74/100\n",
            "100/100 [==============================] - 17s 172ms/step - loss: 0.3373 - acc: 0.8585 - val_loss: 0.3773 - val_acc: 0.8310\n",
            "Epoch 75/100\n",
            "100/100 [==============================] - 17s 173ms/step - loss: 0.3384 - acc: 0.8450 - val_loss: 0.3993 - val_acc: 0.8320\n",
            "Epoch 76/100\n",
            "100/100 [==============================] - 17s 172ms/step - loss: 0.3576 - acc: 0.8430 - val_loss: 0.3566 - val_acc: 0.8470\n",
            "Epoch 77/100\n",
            "100/100 [==============================] - 17s 172ms/step - loss: 0.3450 - acc: 0.8440 - val_loss: 0.3948 - val_acc: 0.8320\n",
            "Epoch 78/100\n",
            "100/100 [==============================] - 17s 173ms/step - loss: 0.3318 - acc: 0.8545 - val_loss: 0.4434 - val_acc: 0.8320\n",
            "Epoch 79/100\n",
            "100/100 [==============================] - 17s 171ms/step - loss: 0.3506 - acc: 0.8495 - val_loss: 0.3824 - val_acc: 0.8250\n",
            "Epoch 80/100\n",
            "100/100 [==============================] - 17s 171ms/step - loss: 0.3601 - acc: 0.8465 - val_loss: 0.3844 - val_acc: 0.8280\n",
            "Epoch 81/100\n",
            "100/100 [==============================] - 17s 173ms/step - loss: 0.3405 - acc: 0.8545 - val_loss: 0.4496 - val_acc: 0.8040\n",
            "Epoch 82/100\n",
            "100/100 [==============================] - 17s 172ms/step - loss: 0.3283 - acc: 0.8635 - val_loss: 0.3580 - val_acc: 0.8370\n",
            "Epoch 83/100\n",
            "100/100 [==============================] - 17s 171ms/step - loss: 0.3372 - acc: 0.8485 - val_loss: 0.3780 - val_acc: 0.8240\n",
            "Epoch 84/100\n",
            "100/100 [==============================] - 17s 173ms/step - loss: 0.2924 - acc: 0.8730 - val_loss: 0.3649 - val_acc: 0.8370\n",
            "Epoch 85/100\n",
            "100/100 [==============================] - 18s 175ms/step - loss: 0.3280 - acc: 0.8590 - val_loss: 0.3825 - val_acc: 0.8390\n",
            "Epoch 86/100\n",
            "100/100 [==============================] - 17s 174ms/step - loss: 0.3132 - acc: 0.8590 - val_loss: 0.3649 - val_acc: 0.8570\n",
            "Epoch 87/100\n",
            "100/100 [==============================] - 17s 173ms/step - loss: 0.3301 - acc: 0.8585 - val_loss: 0.3572 - val_acc: 0.8500\n",
            "Epoch 88/100\n",
            "100/100 [==============================] - 17s 173ms/step - loss: 0.3203 - acc: 0.8595 - val_loss: 0.3550 - val_acc: 0.8500\n",
            "Epoch 89/100\n",
            "100/100 [==============================] - 17s 172ms/step - loss: 0.2986 - acc: 0.8775 - val_loss: 0.3962 - val_acc: 0.8220\n",
            "Epoch 90/100\n",
            "100/100 [==============================] - 17s 173ms/step - loss: 0.3126 - acc: 0.8720 - val_loss: 0.3980 - val_acc: 0.8370\n",
            "Epoch 91/100\n",
            "100/100 [==============================] - 17s 172ms/step - loss: 0.3037 - acc: 0.8725 - val_loss: 0.3523 - val_acc: 0.8550\n",
            "Epoch 92/100\n",
            "100/100 [==============================] - 17s 174ms/step - loss: 0.3043 - acc: 0.8700 - val_loss: 0.3962 - val_acc: 0.8440\n",
            "Epoch 93/100\n",
            "100/100 [==============================] - 17s 171ms/step - loss: 0.3013 - acc: 0.8650 - val_loss: 0.3395 - val_acc: 0.8610\n",
            "Epoch 94/100\n",
            "100/100 [==============================] - 17s 171ms/step - loss: 0.2934 - acc: 0.8770 - val_loss: 0.3791 - val_acc: 0.8270\n",
            "Epoch 95/100\n",
            "100/100 [==============================] - 17s 172ms/step - loss: 0.3273 - acc: 0.8660 - val_loss: 0.3910 - val_acc: 0.8340\n",
            "Epoch 96/100\n",
            "100/100 [==============================] - 17s 172ms/step - loss: 0.3214 - acc: 0.8550 - val_loss: 0.3599 - val_acc: 0.8410\n",
            "Epoch 97/100\n",
            "100/100 [==============================] - 17s 171ms/step - loss: 0.3117 - acc: 0.8670 - val_loss: 0.4132 - val_acc: 0.8340\n",
            "Epoch 98/100\n",
            "100/100 [==============================] - 17s 173ms/step - loss: 0.2899 - acc: 0.8725 - val_loss: 0.3703 - val_acc: 0.8550\n",
            "Epoch 99/100\n",
            "100/100 [==============================] - 17s 173ms/step - loss: 0.3144 - acc: 0.8605 - val_loss: 0.3553 - val_acc: 0.8280\n",
            "Epoch 100/100\n",
            "100/100 [==============================] - 17s 173ms/step - loss: 0.2812 - acc: 0.8840 - val_loss: 0.3613 - val_acc: 0.8570\n"
          ],
          "name": "stdout"
        }
      ]
    }
  ]
}