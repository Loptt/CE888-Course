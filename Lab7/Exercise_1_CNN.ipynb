{
  "nbformat": 4,
  "nbformat_minor": 0,
  "metadata": {
    "kernelspec": {
      "display_name": "Python 3",
      "language": "python",
      "name": "python3"
    },
    "language_info": {
      "codemirror_mode": {
        "name": "ipython",
        "version": 3
      },
      "file_extension": ".py",
      "mimetype": "text/x-python",
      "name": "python",
      "nbconvert_exporter": "python",
      "pygments_lexer": "ipython3",
      "version": "3.6.5"
    },
    "colab": {
      "name": "Exercise_1_CNN.ipynb",
      "provenance": [],
      "include_colab_link": true
    },
    "accelerator": "GPU"
  },
  "cells": [
    {
      "cell_type": "markdown",
      "metadata": {
        "id": "view-in-github",
        "colab_type": "text"
      },
      "source": [
        "<a href=\"https://colab.research.google.com/github/Loptt/CE888-Course/blob/main/Lab7/Exercise_1_CNN.ipynb\" target=\"_parent\"><img src=\"https://colab.research.google.com/assets/colab-badge.svg\" alt=\"Open In Colab\"/></a>"
      ]
    },
    {
      "cell_type": "markdown",
      "metadata": {
        "id": "vwRGEQbzGpYQ"
      },
      "source": [
        "# First CNN model for MNIST Dataset\n",
        "\n",
        "* MNIST Dataset is ''Hello World'' of Image Recognition\n",
        "\n",
        "* [Dataset HomePage](http://yann.lecun.com/exdb/mnist/)\n",
        "\n",
        "* History of MNIST Dataset [Watch here](https://www.youtube.com/watch?v=oKzNUGz21JM)\n",
        "\n",
        "\n",
        "---\n",
        "The MNIST database of handwritten digits, available from this page, has a training set of 60,000 examples, and a \n",
        "test set of 10,000 examples. It is a subset of a larger set available from NIST. The digits have been size-normalized and centered in a fixed-size image.\n",
        "\n",
        "![Kitten](https://camo.githubusercontent.com/01c057a753e92a9bc70b8c45d62b295431851c09cffadf53106fc0aea7e2843f/687474703a2f2f692e7974696d672e636f6d2f76692f3051493378675875422d512f687164656661756c742e6a7067)\n"
      ]
    },
    {
      "cell_type": "markdown",
      "metadata": {
        "id": "PhmJOHCpJD_w"
      },
      "source": [
        "# Let's start building our first CNN Model"
      ]
    },
    {
      "cell_type": "code",
      "metadata": {
        "id": "lSyHCSV7jymI"
      },
      "source": [
        "from keras import layers\n",
        "from keras import models"
      ],
      "execution_count": null,
      "outputs": []
    },
    {
      "cell_type": "markdown",
      "metadata": {
        "id": "oWNzCYUUjymN"
      },
      "source": [
        "Importantly, a convnet takes as input tensors of shape (image_height, image_width,\n",
        "image_channels) (not including the batch dimension). In this case, we’ll configure\n",
        "the convnet to process inputs of size (28, 28, 1), which is the format of MNIST\n",
        "images. We’ll do this by passing the argument input_shape=(28, 28, 1) to the first\n",
        "layer."
      ]
    },
    {
      "cell_type": "markdown",
      "metadata": {
        "id": "dM4JLEpwjymN"
      },
      "source": [
        "#### Instantiating a small convnet"
      ]
    },
    {
      "cell_type": "code",
      "metadata": {
        "id": "p-OnpExGjymO",
        "colab": {
          "base_uri": "https://localhost:8080/"
        },
        "outputId": "8266bc7f-199f-4d25-9e6e-d81d3c3ca313"
      },
      "source": [
        "model = models.Sequential()\n",
        "model.add(layers.Conv2D(32, (3, 3), activation='relu', input_shape=(28, 28, 1)))\n",
        "model.add(layers.MaxPooling2D((2, 2)))\n",
        "model.add(layers.Conv2D(64, (3, 3), activation='relu'))\n",
        "model.add(layers.MaxPooling2D((2, 2)))\n",
        "model.add(layers.Conv2D(64, (3, 3), activation='relu'))\n",
        "model.summary()"
      ],
      "execution_count": null,
      "outputs": [
        {
          "output_type": "stream",
          "text": [
            "Model: \"sequential_57\"\n",
            "_________________________________________________________________\n",
            "Layer (type)                 Output Shape              Param #   \n",
            "=================================================================\n",
            "conv2d_171 (Conv2D)          (None, 26, 26, 32)        320       \n",
            "_________________________________________________________________\n",
            "max_pooling2d_114 (MaxPoolin (None, 13, 13, 32)        0         \n",
            "_________________________________________________________________\n",
            "conv2d_172 (Conv2D)          (None, 11, 11, 64)        18496     \n",
            "_________________________________________________________________\n",
            "max_pooling2d_115 (MaxPoolin (None, 5, 5, 64)          0         \n",
            "_________________________________________________________________\n",
            "conv2d_173 (Conv2D)          (None, 3, 3, 64)          36928     \n",
            "=================================================================\n",
            "Total params: 55,744\n",
            "Trainable params: 55,744\n",
            "Non-trainable params: 0\n",
            "_________________________________________________________________\n"
          ],
          "name": "stdout"
        }
      ]
    },
    {
      "cell_type": "markdown",
      "metadata": {
        "id": "7gcVG3xkjymR"
      },
      "source": [
        "#### Adding a classifier on top of the convnet"
      ]
    },
    {
      "cell_type": "code",
      "metadata": {
        "id": "C2DfhDJYjymR",
        "colab": {
          "base_uri": "https://localhost:8080/"
        },
        "outputId": "5dcf4839-c963-4231-a8a8-4b59881e5b57"
      },
      "source": [
        "model.add(layers.Flatten())\n",
        "model.add(layers.Dense(64, activation='relu'))\n",
        "model.add(layers.Dense(10, activation='softmax'))\n",
        "model.summary()"
      ],
      "execution_count": null,
      "outputs": [
        {
          "output_type": "stream",
          "text": [
            "Model: \"sequential_57\"\n",
            "_________________________________________________________________\n",
            "Layer (type)                 Output Shape              Param #   \n",
            "=================================================================\n",
            "conv2d_171 (Conv2D)          (None, 26, 26, 32)        320       \n",
            "_________________________________________________________________\n",
            "max_pooling2d_114 (MaxPoolin (None, 13, 13, 32)        0         \n",
            "_________________________________________________________________\n",
            "conv2d_172 (Conv2D)          (None, 11, 11, 64)        18496     \n",
            "_________________________________________________________________\n",
            "max_pooling2d_115 (MaxPoolin (None, 5, 5, 64)          0         \n",
            "_________________________________________________________________\n",
            "conv2d_173 (Conv2D)          (None, 3, 3, 64)          36928     \n",
            "_________________________________________________________________\n",
            "flatten_57 (Flatten)         (None, 576)               0         \n",
            "_________________________________________________________________\n",
            "dense_114 (Dense)            (None, 64)                36928     \n",
            "_________________________________________________________________\n",
            "dense_115 (Dense)            (None, 10)                650       \n",
            "=================================================================\n",
            "Total params: 93,322\n",
            "Trainable params: 93,322\n",
            "Non-trainable params: 0\n",
            "_________________________________________________________________\n"
          ],
          "name": "stdout"
        }
      ]
    },
    {
      "cell_type": "markdown",
      "metadata": {
        "id": "NOKVF4nKjymU"
      },
      "source": [
        "### Training the convnet on MNIST images"
      ]
    },
    {
      "cell_type": "code",
      "metadata": {
        "id": "oIcgUbbUjymV"
      },
      "source": [
        "from keras.datasets import mnist\n",
        "from keras.utils import to_categorical"
      ],
      "execution_count": null,
      "outputs": []
    },
    {
      "cell_type": "markdown",
      "metadata": {
        "id": "ZnJ2Pfs_jymX"
      },
      "source": [
        "#### Load Data"
      ]
    },
    {
      "cell_type": "code",
      "metadata": {
        "id": "JpHGHE9MjymY"
      },
      "source": [
        "(train_images, train_labels), (test_images, test_labels) = mnist.load_data()\n",
        "train_images = train_images.reshape((60000, 28, 28, 1))\n",
        "train_images = train_images.astype('float32') / 255\n",
        "test_images = test_images.reshape((10000, 28, 28, 1))\n",
        "test_images = test_images.astype('float32') / 255\n",
        "train_labels = to_categorical(train_labels)\n",
        "test_labels = to_categorical(test_labels)"
      ],
      "execution_count": null,
      "outputs": []
    },
    {
      "cell_type": "markdown",
      "metadata": {
        "id": "4HoTLrfSjymd"
      },
      "source": [
        "#### compile and fit model "
      ]
    },
    {
      "cell_type": "code",
      "metadata": {
        "id": "i23FDtC9jyme",
        "colab": {
          "base_uri": "https://localhost:8080/"
        },
        "outputId": "61c67bc9-0c57-45b3-acb9-f27b270b6d2b"
      },
      "source": [
        "model.compile(optimizer='rmsprop', \n",
        "              loss='categorical_crossentropy',\n",
        "              metrics=['accuracy'])\n",
        "history = model.fit(train_images, train_labels, epochs=5, batch_size=64, validation_split=0.2)"
      ],
      "execution_count": null,
      "outputs": [
        {
          "output_type": "stream",
          "text": [
            "Epoch 1/5\n",
            "750/750 [==============================] - 4s 4ms/step - loss: 0.4547 - accuracy: 0.8561 - val_loss: 0.0642 - val_accuracy: 0.9819\n",
            "Epoch 2/5\n",
            "750/750 [==============================] - 3s 4ms/step - loss: 0.0602 - accuracy: 0.9818 - val_loss: 0.0610 - val_accuracy: 0.9817\n",
            "Epoch 3/5\n",
            "750/750 [==============================] - 3s 4ms/step - loss: 0.0366 - accuracy: 0.9876 - val_loss: 0.0484 - val_accuracy: 0.9863\n",
            "Epoch 4/5\n",
            "750/750 [==============================] - 3s 4ms/step - loss: 0.0277 - accuracy: 0.9916 - val_loss: 0.0418 - val_accuracy: 0.9888\n",
            "Epoch 5/5\n",
            "750/750 [==============================] - 3s 4ms/step - loss: 0.0210 - accuracy: 0.9930 - val_loss: 0.0485 - val_accuracy: 0.9872\n"
          ],
          "name": "stdout"
        }
      ]
    },
    {
      "cell_type": "markdown",
      "metadata": {
        "id": "9zU8iI5ojymg"
      },
      "source": [
        "#### evaluate model"
      ]
    },
    {
      "cell_type": "code",
      "metadata": {
        "id": "Z3VeaL1Njymh",
        "colab": {
          "base_uri": "https://localhost:8080/"
        },
        "outputId": "f42f9eb9-f6e1-4623-a037-387e6463de0b"
      },
      "source": [
        "test_loss, test_acc = model.evaluate(test_images, test_labels)\n",
        "test_acc"
      ],
      "execution_count": null,
      "outputs": [
        {
          "output_type": "stream",
          "text": [
            "313/313 [==============================] - 1s 2ms/step - loss: 0.0393 - accuracy: 0.9894\n"
          ],
          "name": "stdout"
        },
        {
          "output_type": "execute_result",
          "data": {
            "text/plain": [
              "0.9894000291824341"
            ]
          },
          "metadata": {
            "tags": []
          },
          "execution_count": 25
        }
      ]
    },
    {
      "cell_type": "code",
      "metadata": {
        "id": "wXNZOY7Sjymj",
        "colab": {
          "base_uri": "https://localhost:8080/",
          "height": 545
        },
        "outputId": "afa732dd-a6c2-4e23-bc1b-9e58f8817c3f"
      },
      "source": [
        "import matplotlib.pyplot as plt\n",
        "\n",
        "acc = history.history['accuracy']\n",
        "val_acc = history.history['val_accuracy']\n",
        "loss = history.history['loss']\n",
        "val_loss = history.history['val_loss']\n",
        "\n",
        "epochs = range(1, len(acc) + 1)\n",
        "\n",
        "plt.plot(epochs, acc, 'bo', label='Training acc')\n",
        "plt.plot(epochs, val_acc, 'b', label='Validation acc')\n",
        "plt.title('Training and validation accuracy')\n",
        "plt.legend()\n",
        "\n",
        "plt.figure()\n",
        "\n",
        "plt.plot(epochs, loss, 'bo', label='Training loss')\n",
        "plt.plot(epochs, val_loss, 'b', label='Validation loss')\n",
        "plt.title('Training and validation loss')\n",
        "plt.legend()\n",
        "\n",
        "plt.show()"
      ],
      "execution_count": null,
      "outputs": [
        {
          "output_type": "display_data",
          "data": {
            "image/png": "[encoded data removed]",
            "text/plain": [
              "<Figure size 432x288 with 1 Axes>"
            ]
          },
          "metadata": {
            "tags": [],
            "needs_background": "light"
          }
        },
        {
          "output_type": "display_data",
          "data": {
            "image/png": "[encoded data removed]",
            "text/plain": [
              "<Figure size 432x288 with 1 Axes>"
            ]
          },
          "metadata": {
            "tags": [],
            "needs_background": "light"
          }
        }
      ]
    },
    {
      "cell_type": "markdown",
      "metadata": {
        "id": "dsQMc0Iojyml"
      },
      "source": [
        "## Task 1\n",
        "\n",
        "Change the activation function and other parameters such as optimizer to see the effect on the network and it's performance. If possible create a grid search. "
      ]
    },
    {
      "cell_type": "code",
      "metadata": {
        "id": "owJ-29BrJXNa"
      },
      "source": [
        "from keras import layers\n",
        "from keras import models\n",
        "\n",
        "def create_model(activation='relu', optimizer='rmsprop'):\n",
        "  model = models.Sequential()\n",
        "  model.add(layers.Conv2D(32, (3, 3), activation=activation, input_shape=(28, 28, 1)))\n",
        "  model.add(layers.MaxPooling2D((2, 2)))\n",
        "  model.add(layers.Conv2D(64, (3, 3), activation=activation))\n",
        "  model.add(layers.MaxPooling2D((2, 2)))\n",
        "  model.add(layers.Conv2D(64, (3, 3), activation=activation))\n",
        "  model.add(layers.Flatten())\n",
        "  model.add(layers.Dense(64, activation=activation))\n",
        "  model.add(layers.Dense(10, activation='softmax'))\n",
        "  model.compile(optimizer=optimizer, \n",
        "              loss='categorical_crossentropy',\n",
        "              metrics=['accuracy'])\n",
        "  return model\n"
      ],
      "execution_count": null,
      "outputs": []
    },
    {
      "cell_type": "code",
      "metadata": {
        "colab": {
          "base_uri": "https://localhost:8080/"
        },
        "id": "f5U5H3fOCavY",
        "outputId": "68f86052-1fcd-4990-adbe-5645ca984211"
      },
      "source": [
        "from sklearn.model_selection import GridSearchCV\n",
        "from keras.wrappers.scikit_learn import KerasClassifier\n",
        "\n",
        "model = KerasClassifier(build_fn=create_model, epochs=5, batch_size=64, validation_split=0.2)\n",
        "\n",
        "param_grid = {\n",
        "    'activation': ['relu', 'tanh', 'sigmoid'],\n",
        "    'optimizer': ['rmsprop', 'adam']\n",
        "}\n",
        "\n",
        "grid = GridSearchCV(estimator=model, param_grid=param_grid, cv=3)\n",
        "grid_result = grid.fit(train_images, train_labels)\n",
        "\n",
        "print(\"Best score: \", grid_result.best_score_)\n",
        "print(\"Best params:\", grid_result.best_params_)"
      ],
      "execution_count": null,
      "outputs": [
        {
          "output_type": "stream",
          "text": [
            "Epoch 1/5\n",
            "500/500 [==============================] - 3s 4ms/step - loss: 0.5632 - accuracy: 0.8192 - val_loss: 0.0755 - val_accuracy: 0.9780\n",
            "Epoch 2/5\n",
            "500/500 [==============================] - 2s 4ms/step - loss: 0.0720 - accuracy: 0.9781 - val_loss: 0.0677 - val_accuracy: 0.9811\n",
            "Epoch 3/5\n",
            "500/500 [==============================] - 2s 4ms/step - loss: 0.0463 - accuracy: 0.9841 - val_loss: 0.0544 - val_accuracy: 0.9854\n",
            "Epoch 4/5\n",
            "500/500 [==============================] - 2s 4ms/step - loss: 0.0375 - accuracy: 0.9891 - val_loss: 0.0547 - val_accuracy: 0.9852\n",
            "Epoch 5/5\n",
            "500/500 [==============================] - 2s 4ms/step - loss: 0.0265 - accuracy: 0.9915 - val_loss: 0.0489 - val_accuracy: 0.9889\n",
            "313/313 [==============================] - 1s 3ms/step - loss: 0.0539 - accuracy: 0.9853\n",
            "Epoch 1/5\n",
            "500/500 [==============================] - 3s 4ms/step - loss: 0.5401 - accuracy: 0.8285 - val_loss: 0.0834 - val_accuracy: 0.9740\n",
            "Epoch 2/5\n",
            "500/500 [==============================] - 2s 4ms/step - loss: 0.0776 - accuracy: 0.9759 - val_loss: 0.0529 - val_accuracy: 0.9861\n",
            "Epoch 3/5\n",
            "500/500 [==============================] - 2s 4ms/step - loss: 0.0441 - accuracy: 0.9851 - val_loss: 0.0396 - val_accuracy: 0.9885\n",
            "Epoch 4/5\n",
            "500/500 [==============================] - 2s 4ms/step - loss: 0.0284 - accuracy: 0.9910 - val_loss: 0.0427 - val_accuracy: 0.9875\n",
            "Epoch 5/5\n",
            "500/500 [==============================] - 2s 4ms/step - loss: 0.0206 - accuracy: 0.9932 - val_loss: 0.0406 - val_accuracy: 0.9895\n",
            "313/313 [==============================] - 1s 3ms/step - loss: 0.0403 - accuracy: 0.9876\n",
            "Epoch 1/5\n",
            "500/500 [==============================] - 3s 4ms/step - loss: 0.5194 - accuracy: 0.8335 - val_loss: 0.0797 - val_accuracy: 0.9746\n",
            "Epoch 2/5\n",
            "500/500 [==============================] - 2s 4ms/step - loss: 0.0661 - accuracy: 0.9801 - val_loss: 0.0718 - val_accuracy: 0.9780\n",
            "Epoch 3/5\n",
            "500/500 [==============================] - 2s 4ms/step - loss: 0.0421 - accuracy: 0.9868 - val_loss: 0.0460 - val_accuracy: 0.9869\n",
            "Epoch 4/5\n",
            "500/500 [==============================] - 2s 4ms/step - loss: 0.0297 - accuracy: 0.9905 - val_loss: 0.0476 - val_accuracy: 0.9847\n",
            "Epoch 5/5\n",
            "500/500 [==============================] - 2s 4ms/step - loss: 0.0237 - accuracy: 0.9928 - val_loss: 0.0462 - val_accuracy: 0.9866\n",
            "313/313 [==============================] - 1s 3ms/step - loss: 0.0473 - accuracy: 0.9871\n",
            "Epoch 1/5\n",
            "500/500 [==============================] - 2s 4ms/step - loss: 0.6210 - accuracy: 0.8047 - val_loss: 0.0896 - val_accuracy: 0.9746\n",
            "Epoch 2/5\n",
            "500/500 [==============================] - 2s 4ms/step - loss: 0.0776 - accuracy: 0.9767 - val_loss: 0.0603 - val_accuracy: 0.9827\n",
            "Epoch 3/5\n",
            "500/500 [==============================] - 2s 4ms/step - loss: 0.0494 - accuracy: 0.9850 - val_loss: 0.0694 - val_accuracy: 0.9787\n",
            "Epoch 4/5\n",
            "500/500 [==============================] - 2s 4ms/step - loss: 0.0389 - accuracy: 0.9882 - val_loss: 0.0447 - val_accuracy: 0.9874\n",
            "Epoch 5/5\n",
            "500/500 [==============================] - 2s 4ms/step - loss: 0.0244 - accuracy: 0.9927 - val_loss: 0.0448 - val_accuracy: 0.9883\n",
            "313/313 [==============================] - 1s 3ms/step - loss: 0.0393 - accuracy: 0.9883\n",
            "Epoch 1/5\n",
            "500/500 [==============================] - 2s 4ms/step - loss: 0.6167 - accuracy: 0.8110 - val_loss: 0.0975 - val_accuracy: 0.9701\n",
            "Epoch 2/5\n",
            "500/500 [==============================] - 2s 4ms/step - loss: 0.0756 - accuracy: 0.9766 - val_loss: 0.0849 - val_accuracy: 0.9741\n",
            "Epoch 3/5\n",
            "500/500 [==============================] - 2s 4ms/step - loss: 0.0479 - accuracy: 0.9843 - val_loss: 0.0560 - val_accuracy: 0.9825\n",
            "Epoch 4/5\n",
            "500/500 [==============================] - 2s 4ms/step - loss: 0.0372 - accuracy: 0.9872 - val_loss: 0.0735 - val_accuracy: 0.9758\n",
            "Epoch 5/5\n",
            "500/500 [==============================] - 2s 4ms/step - loss: 0.0306 - accuracy: 0.9911 - val_loss: 0.0521 - val_accuracy: 0.9845\n",
            "313/313 [==============================] - 1s 3ms/step - loss: 0.0522 - accuracy: 0.9845\n",
            "Epoch 1/5\n",
            "500/500 [==============================] - 2s 4ms/step - loss: 0.6560 - accuracy: 0.7936 - val_loss: 0.0940 - val_accuracy: 0.9700\n",
            "Epoch 2/5\n",
            "500/500 [==============================] - 2s 4ms/step - loss: 0.0762 - accuracy: 0.9766 - val_loss: 0.0668 - val_accuracy: 0.9796\n",
            "Epoch 3/5\n",
            "500/500 [==============================] - 2s 4ms/step - loss: 0.0468 - accuracy: 0.9863 - val_loss: 0.0687 - val_accuracy: 0.9808\n",
            "Epoch 4/5\n",
            "500/500 [==============================] - 2s 4ms/step - loss: 0.0369 - accuracy: 0.9878 - val_loss: 0.0544 - val_accuracy: 0.9837\n",
            "Epoch 5/5\n",
            "500/500 [==============================] - 2s 4ms/step - loss: 0.0273 - accuracy: 0.9912 - val_loss: 0.0526 - val_accuracy: 0.9844\n",
            "313/313 [==============================] - 1s 3ms/step - loss: 0.0562 - accuracy: 0.9833\n",
            "Epoch 1/5\n",
            "500/500 [==============================] - 3s 4ms/step - loss: 0.4285 - accuracy: 0.8728 - val_loss: 0.0772 - val_accuracy: 0.9787\n",
            "Epoch 2/5\n",
            "500/500 [==============================] - 2s 4ms/step - loss: 0.0713 - accuracy: 0.9789 - val_loss: 0.0665 - val_accuracy: 0.9810\n",
            "Epoch 3/5\n",
            "500/500 [==============================] - 2s 4ms/step - loss: 0.0419 - accuracy: 0.9868 - val_loss: 0.0508 - val_accuracy: 0.9855\n",
            "Epoch 4/5\n",
            "500/500 [==============================] - 2s 4ms/step - loss: 0.0284 - accuracy: 0.9916 - val_loss: 0.0471 - val_accuracy: 0.9870\n",
            "Epoch 5/5\n",
            "500/500 [==============================] - 2s 4ms/step - loss: 0.0209 - accuracy: 0.9935 - val_loss: 0.0470 - val_accuracy: 0.9874\n",
            "313/313 [==============================] - 1s 3ms/step - loss: 0.0424 - accuracy: 0.9877\n",
            "Epoch 1/5\n",
            "500/500 [==============================] - 3s 4ms/step - loss: 0.4160 - accuracy: 0.8785 - val_loss: 0.0669 - val_accuracy: 0.9822\n",
            "Epoch 2/5\n",
            "500/500 [==============================] - 2s 4ms/step - loss: 0.0702 - accuracy: 0.9776 - val_loss: 0.0552 - val_accuracy: 0.9840\n",
            "Epoch 3/5\n",
            "500/500 [==============================] - 2s 4ms/step - loss: 0.0412 - accuracy: 0.9883 - val_loss: 0.0469 - val_accuracy: 0.9883\n",
            "Epoch 4/5\n",
            "500/500 [==============================] - 2s 4ms/step - loss: 0.0282 - accuracy: 0.9913 - val_loss: 0.0568 - val_accuracy: 0.9833\n",
            "Epoch 5/5\n",
            "500/500 [==============================] - 2s 4ms/step - loss: 0.0222 - accuracy: 0.9935 - val_loss: 0.0476 - val_accuracy: 0.9874\n",
            "313/313 [==============================] - 1s 3ms/step - loss: 0.0504 - accuracy: 0.9854\n",
            "Epoch 1/5\n",
            "500/500 [==============================] - 3s 4ms/step - loss: 0.4282 - accuracy: 0.8768 - val_loss: 0.0833 - val_accuracy: 0.9743\n",
            "Epoch 2/5\n",
            "500/500 [==============================] - 2s 4ms/step - loss: 0.0651 - accuracy: 0.9815 - val_loss: 0.0592 - val_accuracy: 0.9819\n",
            "Epoch 3/5\n",
            "500/500 [==============================] - 2s 4ms/step - loss: 0.0402 - accuracy: 0.9881 - val_loss: 0.0501 - val_accuracy: 0.9849\n",
            "Epoch 4/5\n",
            "500/500 [==============================] - 2s 4ms/step - loss: 0.0281 - accuracy: 0.9912 - val_loss: 0.0465 - val_accuracy: 0.9851\n",
            "Epoch 5/5\n",
            "500/500 [==============================] - 2s 4ms/step - loss: 0.0193 - accuracy: 0.9946 - val_loss: 0.0620 - val_accuracy: 0.9816\n",
            "313/313 [==============================] - 1s 3ms/step - loss: 0.0585 - accuracy: 0.9833\n",
            "Epoch 1/5\n",
            "500/500 [==============================] - 3s 4ms/step - loss: 0.5195 - accuracy: 0.8468 - val_loss: 0.1002 - val_accuracy: 0.9725\n",
            "Epoch 2/5\n",
            "500/500 [==============================] - 2s 4ms/step - loss: 0.0721 - accuracy: 0.9779 - val_loss: 0.0623 - val_accuracy: 0.9809\n",
            "Epoch 3/5\n",
            "500/500 [==============================] - 2s 4ms/step - loss: 0.0457 - accuracy: 0.9866 - val_loss: 0.0565 - val_accuracy: 0.9841\n",
            "Epoch 4/5\n",
            "500/500 [==============================] - 2s 4ms/step - loss: 0.0339 - accuracy: 0.9898 - val_loss: 0.0528 - val_accuracy: 0.9850\n",
            "Epoch 5/5\n",
            "500/500 [==============================] - 2s 4ms/step - loss: 0.0221 - accuracy: 0.9942 - val_loss: 0.0592 - val_accuracy: 0.9825\n",
            "313/313 [==============================] - 1s 3ms/step - loss: 0.0623 - accuracy: 0.9812\n",
            "Epoch 1/5\n",
            "500/500 [==============================] - 2s 4ms/step - loss: 0.5145 - accuracy: 0.8483 - val_loss: 0.0721 - val_accuracy: 0.9805\n",
            "Epoch 2/5\n",
            "500/500 [==============================] - 2s 4ms/step - loss: 0.0707 - accuracy: 0.9788 - val_loss: 0.0528 - val_accuracy: 0.9859\n",
            "Epoch 3/5\n",
            "500/500 [==============================] - 2s 4ms/step - loss: 0.0450 - accuracy: 0.9867 - val_loss: 0.0449 - val_accuracy: 0.9874\n",
            "Epoch 4/5\n",
            "500/500 [==============================] - 2s 4ms/step - loss: 0.0300 - accuracy: 0.9916 - val_loss: 0.0492 - val_accuracy: 0.9862\n",
            "Epoch 5/5\n",
            "500/500 [==============================] - 2s 4ms/step - loss: 0.0232 - accuracy: 0.9932 - val_loss: 0.0420 - val_accuracy: 0.9883\n",
            "313/313 [==============================] - 1s 3ms/step - loss: 0.0469 - accuracy: 0.9860\n",
            "Epoch 1/5\n",
            "500/500 [==============================] - 2s 4ms/step - loss: 0.5062 - accuracy: 0.8558 - val_loss: 0.0848 - val_accuracy: 0.9753\n",
            "Epoch 2/5\n",
            "500/500 [==============================] - 2s 4ms/step - loss: 0.0727 - accuracy: 0.9793 - val_loss: 0.0706 - val_accuracy: 0.9793\n",
            "Epoch 3/5\n",
            "500/500 [==============================] - 2s 4ms/step - loss: 0.0414 - accuracy: 0.9874 - val_loss: 0.0590 - val_accuracy: 0.9834\n",
            "Epoch 4/5\n",
            "500/500 [==============================] - 2s 4ms/step - loss: 0.0300 - accuracy: 0.9912 - val_loss: 0.0602 - val_accuracy: 0.9822\n",
            "Epoch 5/5\n",
            "500/500 [==============================] - 2s 4ms/step - loss: 0.0206 - accuracy: 0.9944 - val_loss: 0.0545 - val_accuracy: 0.9825\n",
            "313/313 [==============================] - 1s 3ms/step - loss: 0.0518 - accuracy: 0.9845\n",
            "Epoch 1/5\n",
            "500/500 [==============================] - 3s 4ms/step - loss: 1.9695 - accuracy: 0.2843 - val_loss: 0.4267 - val_accuracy: 0.8863\n",
            "Epoch 2/5\n",
            "500/500 [==============================] - 2s 4ms/step - loss: 0.3621 - accuracy: 0.8996 - val_loss: 0.1933 - val_accuracy: 0.9460\n",
            "Epoch 3/5\n",
            "500/500 [==============================] - 2s 4ms/step - loss: 0.1848 - accuracy: 0.9466 - val_loss: 0.1327 - val_accuracy: 0.9601\n",
            "Epoch 4/5\n",
            "500/500 [==============================] - 2s 4ms/step - loss: 0.1258 - accuracy: 0.9626 - val_loss: 0.0884 - val_accuracy: 0.9743\n",
            "Epoch 5/5\n",
            "500/500 [==============================] - 2s 4ms/step - loss: 0.0970 - accuracy: 0.9700 - val_loss: 0.0761 - val_accuracy: 0.9779\n",
            "313/313 [==============================] - 1s 3ms/step - loss: 0.0846 - accuracy: 0.9738\n",
            "Epoch 1/5\n",
            "500/500 [==============================] - 3s 4ms/step - loss: 1.9681 - accuracy: 0.2843 - val_loss: 0.4434 - val_accuracy: 0.8761\n",
            "Epoch 2/5\n",
            "500/500 [==============================] - 2s 4ms/step - loss: 0.3760 - accuracy: 0.8951 - val_loss: 0.1982 - val_accuracy: 0.9464\n",
            "Epoch 3/5\n",
            "500/500 [==============================] - 2s 4ms/step - loss: 0.1885 - accuracy: 0.9468 - val_loss: 0.1408 - val_accuracy: 0.9578\n",
            "Epoch 4/5\n",
            "500/500 [==============================] - 2s 4ms/step - loss: 0.1339 - accuracy: 0.9622 - val_loss: 0.0941 - val_accuracy: 0.9737\n",
            "Epoch 5/5\n",
            "500/500 [==============================] - 2s 4ms/step - loss: 0.0978 - accuracy: 0.9699 - val_loss: 0.0785 - val_accuracy: 0.9769\n",
            "313/313 [==============================] - 1s 3ms/step - loss: 0.0874 - accuracy: 0.9727\n",
            "Epoch 1/5\n",
            "500/500 [==============================] - 3s 4ms/step - loss: 1.9107 - accuracy: 0.3129 - val_loss: 0.4470 - val_accuracy: 0.8799\n",
            "Epoch 2/5\n",
            "500/500 [==============================] - 2s 4ms/step - loss: 0.3532 - accuracy: 0.9012 - val_loss: 0.2086 - val_accuracy: 0.9383\n",
            "Epoch 3/5\n",
            "500/500 [==============================] - 2s 4ms/step - loss: 0.1917 - accuracy: 0.9424 - val_loss: 0.1398 - val_accuracy: 0.9580\n",
            "Epoch 4/5\n",
            "500/500 [==============================] - 2s 4ms/step - loss: 0.1294 - accuracy: 0.9610 - val_loss: 0.1043 - val_accuracy: 0.9686\n",
            "Epoch 5/5\n",
            "500/500 [==============================] - 2s 4ms/step - loss: 0.0998 - accuracy: 0.9692 - val_loss: 0.0881 - val_accuracy: 0.9745\n",
            "313/313 [==============================] - 1s 3ms/step - loss: 0.0907 - accuracy: 0.9721\n",
            "Epoch 1/5\n",
            "500/500 [==============================] - 2s 4ms/step - loss: 2.0308 - accuracy: 0.2461 - val_loss: 0.3438 - val_accuracy: 0.9165\n",
            "Epoch 2/5\n",
            "500/500 [==============================] - 2s 4ms/step - loss: 0.3135 - accuracy: 0.9155 - val_loss: 0.1617 - val_accuracy: 0.9528\n",
            "Epoch 3/5\n",
            "500/500 [==============================] - 2s 4ms/step - loss: 0.1576 - accuracy: 0.9553 - val_loss: 0.1051 - val_accuracy: 0.9706\n",
            "Epoch 4/5\n",
            "500/500 [==============================] - 2s 4ms/step - loss: 0.1041 - accuracy: 0.9699 - val_loss: 0.0901 - val_accuracy: 0.9758\n",
            "Epoch 5/5\n",
            "500/500 [==============================] - 2s 4ms/step - loss: 0.0843 - accuracy: 0.9753 - val_loss: 0.0766 - val_accuracy: 0.9772\n",
            "313/313 [==============================] - 1s 3ms/step - loss: 0.0814 - accuracy: 0.9765\n",
            "Epoch 1/5\n",
            "500/500 [==============================] - 2s 4ms/step - loss: 2.0664 - accuracy: 0.2285 - val_loss: 0.4190 - val_accuracy: 0.8926\n",
            "Epoch 2/5\n",
            "500/500 [==============================] - 2s 4ms/step - loss: 0.3670 - accuracy: 0.9056 - val_loss: 0.1892 - val_accuracy: 0.9507\n",
            "Epoch 3/5\n",
            "500/500 [==============================] - 2s 4ms/step - loss: 0.1886 - accuracy: 0.9491 - val_loss: 0.1229 - val_accuracy: 0.9665\n",
            "Epoch 4/5\n",
            "500/500 [==============================] - 2s 4ms/step - loss: 0.1295 - accuracy: 0.9621 - val_loss: 0.1131 - val_accuracy: 0.9679\n",
            "Epoch 5/5\n",
            "500/500 [==============================] - 2s 4ms/step - loss: 0.1030 - accuracy: 0.9696 - val_loss: 0.0846 - val_accuracy: 0.9749\n",
            "313/313 [==============================] - 1s 3ms/step - loss: 0.0938 - accuracy: 0.9714\n",
            "Epoch 1/5\n",
            "500/500 [==============================] - 2s 4ms/step - loss: 2.0256 - accuracy: 0.2521 - val_loss: 0.4131 - val_accuracy: 0.8971\n",
            "Epoch 2/5\n",
            "500/500 [==============================] - 2s 4ms/step - loss: 0.3328 - accuracy: 0.9139 - val_loss: 0.1983 - val_accuracy: 0.9438\n",
            "Epoch 3/5\n",
            "500/500 [==============================] - 2s 4ms/step - loss: 0.1765 - accuracy: 0.9507 - val_loss: 0.1245 - val_accuracy: 0.9647\n",
            "Epoch 4/5\n",
            "500/500 [==============================] - 2s 4ms/step - loss: 0.1145 - accuracy: 0.9691 - val_loss: 0.0967 - val_accuracy: 0.9715\n",
            "Epoch 5/5\n",
            "500/500 [==============================] - 2s 4ms/step - loss: 0.0864 - accuracy: 0.9758 - val_loss: 0.0939 - val_accuracy: 0.9719\n",
            "313/313 [==============================] - 1s 3ms/step - loss: 0.0950 - accuracy: 0.9719\n",
            "Epoch 1/5\n",
            "750/750 [==============================] - 4s 4ms/step - loss: 0.4659 - accuracy: 0.8519 - val_loss: 0.0913 - val_accuracy: 0.9725\n",
            "Epoch 2/5\n",
            "750/750 [==============================] - 3s 4ms/step - loss: 0.0582 - accuracy: 0.9814 - val_loss: 0.0496 - val_accuracy: 0.9857\n",
            "Epoch 3/5\n",
            "750/750 [==============================] - 3s 4ms/step - loss: 0.0376 - accuracy: 0.9872 - val_loss: 0.0384 - val_accuracy: 0.9889\n",
            "Epoch 4/5\n",
            "750/750 [==============================] - 3s 4ms/step - loss: 0.0246 - accuracy: 0.9924 - val_loss: 0.0430 - val_accuracy: 0.9872\n",
            "Epoch 5/5\n",
            "750/750 [==============================] - 3s 4ms/step - loss: 0.0202 - accuracy: 0.9932 - val_loss: 0.0372 - val_accuracy: 0.9912\n",
            "Best score:  0.9866666793823242\n",
            "Best params: {'activation': 'relu', 'optimizer': 'rmsprop'}\n"
          ],
          "name": "stdout"
        }
      ]
    },
    {
      "cell_type": "code",
      "metadata": {
        "id": "VkuamlQtDg1w"
      },
      "source": [
        ""
      ],
      "execution_count": null,
      "outputs": []
    }
  ]
}